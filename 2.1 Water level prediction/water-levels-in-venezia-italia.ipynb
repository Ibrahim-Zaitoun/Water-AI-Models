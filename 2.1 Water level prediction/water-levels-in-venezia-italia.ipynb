{
 "cells": [
  {
   "cell_type": "code",
   "execution_count": 1,
   "id": "5f17f01b",
   "metadata": {
    "_cell_guid": "b1076dfc-b9ad-4769-8c92-a6c4dae69d19",
    "_uuid": "8f2839f25d086af736a60e9eeb907d3b93b6e0e5",
    "execution": {
     "iopub.execute_input": "2023-10-19T13:12:11.072344Z",
     "iopub.status.busy": "2023-10-19T13:12:11.071544Z",
     "iopub.status.idle": "2023-10-19T13:12:12.312539Z",
     "shell.execute_reply": "2023-10-19T13:12:12.311592Z"
    },
    "papermill": {
     "duration": 1.249263,
     "end_time": "2023-10-19T13:12:12.314454",
     "exception": false,
     "start_time": "2023-10-19T13:12:11.065191",
     "status": "completed"
    },
    "tags": []
   },
   "outputs": [
    {
     "name": "stdout",
     "output_type": "stream",
     "text": [
      "/kaggle/input/venezia/venezia.csv\n",
      "/kaggle/input/venezia/Punta_Salute_1983_2015/Punta_Salute_1985.csv\n",
      "/kaggle/input/venezia/Punta_Salute_1983_2015/Punta_Salute_1996.csv\n",
      "/kaggle/input/venezia/Punta_Salute_1983_2015/Punta_Salute_1993.csv\n",
      "/kaggle/input/venezia/Punta_Salute_1983_2015/Punta_Salute_1992.csv\n",
      "/kaggle/input/venezia/Punta_Salute_1983_2015/Punta_Salute_1986.csv\n",
      "/kaggle/input/venezia/Punta_Salute_1983_2015/Punta_Salute_2009.csv\n",
      "/kaggle/input/venezia/Punta_Salute_1983_2015/Punta_Salute_1988.csv\n",
      "/kaggle/input/venezia/Punta_Salute_1983_2015/Punta_Salute_2013.csv\n",
      "/kaggle/input/venezia/Punta_Salute_1983_2015/Punta_Salute_2005.csv\n",
      "/kaggle/input/venezia/Punta_Salute_1983_2015/Punta_Salute_2001.csv\n",
      "/kaggle/input/venezia/Punta_Salute_1983_2015/Punta_Salute_1990.csv\n",
      "/kaggle/input/venezia/Punta_Salute_1983_2015/Punta_Salute_1984.csv\n",
      "/kaggle/input/venezia/Punta_Salute_1983_2015/Punta_Salute_2012.csv\n",
      "/kaggle/input/venezia/Punta_Salute_1983_2015/Punta_Salute_1983.csv\n",
      "/kaggle/input/venezia/Punta_Salute_1983_2015/Punta_Salute_1997.csv\n",
      "/kaggle/input/venezia/Punta_Salute_1983_2015/Punta_Salute_2003.csv\n",
      "/kaggle/input/venezia/Punta_Salute_1983_2015/Punta_Salute_1989.csv\n",
      "/kaggle/input/venezia/Punta_Salute_1983_2015/Punta_Salute_1987.csv\n",
      "/kaggle/input/venezia/Punta_Salute_1983_2015/Punta_Salute_1995.csv\n",
      "/kaggle/input/venezia/Punta_Salute_1983_2015/Punta_Salute_2015.csv\n",
      "/kaggle/input/venezia/Punta_Salute_1983_2015/Punta_Salute_2004.csv\n",
      "/kaggle/input/venezia/Punta_Salute_1983_2015/Punta_Salute_1994.csv\n",
      "/kaggle/input/venezia/Punta_Salute_1983_2015/Punta_Salute_1999.csv\n",
      "/kaggle/input/venezia/Punta_Salute_1983_2015/Punta_Salute_2006.csv\n",
      "/kaggle/input/venezia/Punta_Salute_1983_2015/Punta_Salute_2010.csv\n",
      "/kaggle/input/venezia/Punta_Salute_1983_2015/Punta_Salute_2000.csv\n",
      "/kaggle/input/venezia/Punta_Salute_1983_2015/Punta_Salute_2007.csv\n",
      "/kaggle/input/venezia/Punta_Salute_1983_2015/Punta_Salute_1991.csv\n",
      "/kaggle/input/venezia/Punta_Salute_1983_2015/Punta_Salute_1998.csv\n",
      "/kaggle/input/venezia/Punta_Salute_1983_2015/Punta_Salute_2002.csv\n",
      "/kaggle/input/venezia/Punta_Salute_1983_2015/Punta_Salute_2011.csv\n",
      "/kaggle/input/venezia/Punta_Salute_1983_2015/Punta_Salute_2014.csv\n",
      "/kaggle/input/venezia/Punta_Salute_1983_2015/Punta_Salute_2008.csv\n"
     ]
    }
   ],
   "source": [
    "# This Python 3 environment comes with many helpful analytics libraries installed\n",
    "# It is defined by the kaggle/python Docker image: https://github.com/kaggle/docker-python\n",
    "# For example, here's several helpful packages to load\n",
    "\n",
    "import numpy as np # linear algebra\n",
    "import pandas as pd # data processing, CSV file I/O (e.g. pd.read_csv)\n",
    "\n",
    "# Input data files are available in the read-only \"../input/\" directory\n",
    "# For example, running this (by clicking run or pressing Shift+Enter) will list all files under the input directory\n",
    "\n",
    "import os\n",
    "for dirname, _, filenames in os.walk('/kaggle/input'):\n",
    "    for filename in filenames:\n",
    "        print(os.path.join(dirname, filename))\n",
    "\n",
    "# You can write up to 20GB to the current directory (/kaggle/working/) that gets preserved as output when you create a version using \"Save & Run All\" \n",
    "# You can also write temporary files to /kaggle/temp/, but they won't be saved outside of the current session"
   ]
  },
  {
   "cell_type": "code",
   "execution_count": 2,
   "id": "134b2fe5",
   "metadata": {
    "execution": {
     "iopub.execute_input": "2023-10-19T13:12:12.324861Z",
     "iopub.status.busy": "2023-10-19T13:12:12.324500Z",
     "iopub.status.idle": "2023-10-19T13:12:28.552750Z",
     "shell.execute_reply": "2023-10-19T13:12:28.552079Z"
    },
    "papermill": {
     "duration": 16.235527,
     "end_time": "2023-10-19T13:12:28.554798",
     "exception": false,
     "start_time": "2023-10-19T13:12:12.319271",
     "status": "completed"
    },
    "tags": []
   },
   "outputs": [
    {
     "name": "stderr",
     "output_type": "stream",
     "text": [
      "/opt/conda/lib/python3.10/site-packages/scipy/__init__.py:146: UserWarning: A NumPy version >=1.16.5 and <1.23.0 is required for this version of SciPy (detected version 1.23.5\n",
      "  warnings.warn(f\"A NumPy version >={np_minversion} and <{np_maxversion}\"\n"
     ]
    }
   ],
   "source": [
    "import numpy as np\n",
    "import pandas as pd\n",
    "import matplotlib.pyplot as plt \n",
    "import seaborn as sns\n",
    "from sklearn.linear_model import LinearRegression\n",
    "from sklearn.model_selection import train_test_split\n",
    "from sklearn.metrics import mean_squared_error\n",
    "from sklearn.tree import DecisionTreeRegressor\n",
    "from sklearn.ensemble import RandomForestRegressor\n",
    "from sklearn.ensemble import GradientBoostingRegressor\n",
    "from keras.models import Sequential\n",
    "from keras.layers import LSTM, Dense, GRU, SimpleRNN,Dropout\n",
    "from sklearn.preprocessing import MinMaxScaler ,  LabelEncoder, OneHotEncoder , StandardScaler\n",
    "import tensorflow as tf\n",
    "from tensorflow import keras\n",
    "from tensorflow.keras import layers"
   ]
  },
  {
   "cell_type": "code",
   "execution_count": 3,
   "id": "4200bd42",
   "metadata": {
    "execution": {
     "iopub.execute_input": "2023-10-19T13:12:28.565992Z",
     "iopub.status.busy": "2023-10-19T13:12:28.565440Z",
     "iopub.status.idle": "2023-10-19T13:12:28.937076Z",
     "shell.execute_reply": "2023-10-19T13:12:28.936160Z"
    },
    "papermill": {
     "duration": 0.379031,
     "end_time": "2023-10-19T13:12:28.938865",
     "exception": false,
     "start_time": "2023-10-19T13:12:28.559834",
     "status": "completed"
    },
    "tags": []
   },
   "outputs": [
    {
     "data": {
      "text/plain": [
       "(289272, 2)"
      ]
     },
     "execution_count": 3,
     "metadata": {},
     "output_type": "execute_result"
    }
   ],
   "source": [
    "data= pd.read_csv('/kaggle/input/venezia/venezia.csv',parse_dates=['datetime'])\n",
    "data.shape"
   ]
  },
  {
   "cell_type": "code",
   "execution_count": 4,
   "id": "b1d6d494",
   "metadata": {
    "execution": {
     "iopub.execute_input": "2023-10-19T13:12:28.949481Z",
     "iopub.status.busy": "2023-10-19T13:12:28.948916Z",
     "iopub.status.idle": "2023-10-19T13:12:28.981017Z",
     "shell.execute_reply": "2023-10-19T13:12:28.980330Z"
    },
    "papermill": {
     "duration": 0.039079,
     "end_time": "2023-10-19T13:12:28.982788",
     "exception": false,
     "start_time": "2023-10-19T13:12:28.943709",
     "status": "completed"
    },
    "tags": []
   },
   "outputs": [
    {
     "data": {
      "text/html": [
       "<div>\n",
       "<style scoped>\n",
       "    .dataframe tbody tr th:only-of-type {\n",
       "        vertical-align: middle;\n",
       "    }\n",
       "\n",
       "    .dataframe tbody tr th {\n",
       "        vertical-align: top;\n",
       "    }\n",
       "\n",
       "    .dataframe thead th {\n",
       "        text-align: right;\n",
       "    }\n",
       "</style>\n",
       "<table border=\"1\" class=\"dataframe\">\n",
       "  <thead>\n",
       "    <tr style=\"text-align: right;\">\n",
       "      <th></th>\n",
       "      <th>datetime</th>\n",
       "      <th>level</th>\n",
       "    </tr>\n",
       "  </thead>\n",
       "  <tbody>\n",
       "    <tr>\n",
       "      <th>277090</th>\n",
       "      <td>2014-08-11 11:00:00</td>\n",
       "      <td>75.0</td>\n",
       "    </tr>\n",
       "  </tbody>\n",
       "</table>\n",
       "</div>"
      ],
      "text/plain": [
       "                  datetime  level\n",
       "277090 2014-08-11 11:00:00   75.0"
      ]
     },
     "execution_count": 4,
     "metadata": {},
     "output_type": "execute_result"
    }
   ],
   "source": [
    "data.sample()"
   ]
  },
  {
   "cell_type": "code",
   "execution_count": 5,
   "id": "b2452392",
   "metadata": {
    "execution": {
     "iopub.execute_input": "2023-10-19T13:12:28.993355Z",
     "iopub.status.busy": "2023-10-19T13:12:28.992792Z",
     "iopub.status.idle": "2023-10-19T13:12:29.000199Z",
     "shell.execute_reply": "2023-10-19T13:12:28.999415Z"
    },
    "papermill": {
     "duration": 0.01413,
     "end_time": "2023-10-19T13:12:29.001760",
     "exception": false,
     "start_time": "2023-10-19T13:12:28.987630",
     "status": "completed"
    },
    "tags": []
   },
   "outputs": [
    {
     "data": {
      "text/html": [
       "<div>\n",
       "<style scoped>\n",
       "    .dataframe tbody tr th:only-of-type {\n",
       "        vertical-align: middle;\n",
       "    }\n",
       "\n",
       "    .dataframe tbody tr th {\n",
       "        vertical-align: top;\n",
       "    }\n",
       "\n",
       "    .dataframe thead th {\n",
       "        text-align: right;\n",
       "    }\n",
       "</style>\n",
       "<table border=\"1\" class=\"dataframe\">\n",
       "  <thead>\n",
       "    <tr style=\"text-align: right;\">\n",
       "      <th></th>\n",
       "      <th>datetime</th>\n",
       "      <th>level</th>\n",
       "    </tr>\n",
       "  </thead>\n",
       "  <tbody>\n",
       "    <tr>\n",
       "      <th>0</th>\n",
       "      <td>1983-01-01 01:00:00</td>\n",
       "      <td>44.0</td>\n",
       "    </tr>\n",
       "    <tr>\n",
       "      <th>1</th>\n",
       "      <td>1983-01-01 02:00:00</td>\n",
       "      <td>35.0</td>\n",
       "    </tr>\n",
       "    <tr>\n",
       "      <th>2</th>\n",
       "      <td>1983-01-01 03:00:00</td>\n",
       "      <td>23.0</td>\n",
       "    </tr>\n",
       "    <tr>\n",
       "      <th>3</th>\n",
       "      <td>1983-01-01 04:00:00</td>\n",
       "      <td>10.0</td>\n",
       "    </tr>\n",
       "    <tr>\n",
       "      <th>4</th>\n",
       "      <td>1983-01-01 05:00:00</td>\n",
       "      <td>1.0</td>\n",
       "    </tr>\n",
       "  </tbody>\n",
       "</table>\n",
       "</div>"
      ],
      "text/plain": [
       "             datetime  level\n",
       "0 1983-01-01 01:00:00   44.0\n",
       "1 1983-01-01 02:00:00   35.0\n",
       "2 1983-01-01 03:00:00   23.0\n",
       "3 1983-01-01 04:00:00   10.0\n",
       "4 1983-01-01 05:00:00    1.0"
      ]
     },
     "execution_count": 5,
     "metadata": {},
     "output_type": "execute_result"
    }
   ],
   "source": [
    "data.head()"
   ]
  },
  {
   "cell_type": "code",
   "execution_count": 6,
   "id": "166de5c4",
   "metadata": {
    "execution": {
     "iopub.execute_input": "2023-10-19T13:12:29.011989Z",
     "iopub.status.busy": "2023-10-19T13:12:29.011750Z",
     "iopub.status.idle": "2023-10-19T13:12:29.189362Z",
     "shell.execute_reply": "2023-10-19T13:12:29.188578Z"
    },
    "papermill": {
     "duration": 0.18478,
     "end_time": "2023-10-19T13:12:29.191064",
     "exception": false,
     "start_time": "2023-10-19T13:12:29.006284",
     "status": "completed"
    },
    "tags": []
   },
   "outputs": [
    {
     "data": {
      "text/html": [
       "<div>\n",
       "<style scoped>\n",
       "    .dataframe tbody tr th:only-of-type {\n",
       "        vertical-align: middle;\n",
       "    }\n",
       "\n",
       "    .dataframe tbody tr th {\n",
       "        vertical-align: top;\n",
       "    }\n",
       "\n",
       "    .dataframe thead th {\n",
       "        text-align: right;\n",
       "    }\n",
       "</style>\n",
       "<table border=\"1\" class=\"dataframe\">\n",
       "  <thead>\n",
       "    <tr style=\"text-align: right;\">\n",
       "      <th></th>\n",
       "      <th>datetime</th>\n",
       "      <th>level</th>\n",
       "      <th>hour</th>\n",
       "      <th>dayofweek</th>\n",
       "      <th>quarter</th>\n",
       "      <th>month</th>\n",
       "      <th>year</th>\n",
       "      <th>dayofyear</th>\n",
       "      <th>dayofmonth</th>\n",
       "    </tr>\n",
       "  </thead>\n",
       "  <tbody>\n",
       "    <tr>\n",
       "      <th>0</th>\n",
       "      <td>1983-01-01 01:00:00</td>\n",
       "      <td>44.0</td>\n",
       "      <td>1</td>\n",
       "      <td>5</td>\n",
       "      <td>1</td>\n",
       "      <td>1</td>\n",
       "      <td>1983</td>\n",
       "      <td>1</td>\n",
       "      <td>1</td>\n",
       "    </tr>\n",
       "    <tr>\n",
       "      <th>1</th>\n",
       "      <td>1983-01-01 02:00:00</td>\n",
       "      <td>35.0</td>\n",
       "      <td>2</td>\n",
       "      <td>5</td>\n",
       "      <td>1</td>\n",
       "      <td>1</td>\n",
       "      <td>1983</td>\n",
       "      <td>1</td>\n",
       "      <td>1</td>\n",
       "    </tr>\n",
       "    <tr>\n",
       "      <th>2</th>\n",
       "      <td>1983-01-01 03:00:00</td>\n",
       "      <td>23.0</td>\n",
       "      <td>3</td>\n",
       "      <td>5</td>\n",
       "      <td>1</td>\n",
       "      <td>1</td>\n",
       "      <td>1983</td>\n",
       "      <td>1</td>\n",
       "      <td>1</td>\n",
       "    </tr>\n",
       "    <tr>\n",
       "      <th>3</th>\n",
       "      <td>1983-01-01 04:00:00</td>\n",
       "      <td>10.0</td>\n",
       "      <td>4</td>\n",
       "      <td>5</td>\n",
       "      <td>1</td>\n",
       "      <td>1</td>\n",
       "      <td>1983</td>\n",
       "      <td>1</td>\n",
       "      <td>1</td>\n",
       "    </tr>\n",
       "    <tr>\n",
       "      <th>4</th>\n",
       "      <td>1983-01-01 05:00:00</td>\n",
       "      <td>1.0</td>\n",
       "      <td>5</td>\n",
       "      <td>5</td>\n",
       "      <td>1</td>\n",
       "      <td>1</td>\n",
       "      <td>1983</td>\n",
       "      <td>1</td>\n",
       "      <td>1</td>\n",
       "    </tr>\n",
       "  </tbody>\n",
       "</table>\n",
       "</div>"
      ],
      "text/plain": [
       "             datetime  level  hour  dayofweek  quarter  month  year  \\\n",
       "0 1983-01-01 01:00:00   44.0     1          5        1      1  1983   \n",
       "1 1983-01-01 02:00:00   35.0     2          5        1      1  1983   \n",
       "2 1983-01-01 03:00:00   23.0     3          5        1      1  1983   \n",
       "3 1983-01-01 04:00:00   10.0     4          5        1      1  1983   \n",
       "4 1983-01-01 05:00:00    1.0     5          5        1      1  1983   \n",
       "\n",
       "   dayofyear  dayofmonth  \n",
       "0          1           1  \n",
       "1          1           1  \n",
       "2          1           1  \n",
       "3          1           1  \n",
       "4          1           1  "
      ]
     },
     "execution_count": 6,
     "metadata": {},
     "output_type": "execute_result"
    }
   ],
   "source": [
    "data['hour'] = data['datetime'].dt.hour\n",
    "data['dayofweek'] = data['datetime'].dt.dayofweek\n",
    "data['quarter'] = data['datetime'].dt.quarter\n",
    "data['month'] = data['datetime'].dt.month\n",
    "data['year'] = data['datetime'].dt.year\n",
    "data['dayofyear'] = data['datetime'].dt.dayofyear\n",
    "data['dayofmonth'] = data['datetime'].dt.day\n",
    "data.head()"
   ]
  },
  {
   "cell_type": "code",
   "execution_count": 7,
   "id": "a8a91456",
   "metadata": {
    "execution": {
     "iopub.execute_input": "2023-10-19T13:12:29.201737Z",
     "iopub.status.busy": "2023-10-19T13:12:29.201447Z",
     "iopub.status.idle": "2023-10-19T13:12:29.210735Z",
     "shell.execute_reply": "2023-10-19T13:12:29.209858Z"
    },
    "papermill": {
     "duration": 0.016527,
     "end_time": "2023-10-19T13:12:29.212467",
     "exception": false,
     "start_time": "2023-10-19T13:12:29.195940",
     "status": "completed"
    },
    "tags": []
   },
   "outputs": [
    {
     "data": {
      "text/html": [
       "<div>\n",
       "<style scoped>\n",
       "    .dataframe tbody tr th:only-of-type {\n",
       "        vertical-align: middle;\n",
       "    }\n",
       "\n",
       "    .dataframe tbody tr th {\n",
       "        vertical-align: top;\n",
       "    }\n",
       "\n",
       "    .dataframe thead th {\n",
       "        text-align: right;\n",
       "    }\n",
       "</style>\n",
       "<table border=\"1\" class=\"dataframe\">\n",
       "  <thead>\n",
       "    <tr style=\"text-align: right;\">\n",
       "      <th></th>\n",
       "      <th>datetime</th>\n",
       "      <th>level</th>\n",
       "      <th>hour</th>\n",
       "      <th>dayofweek</th>\n",
       "      <th>quarter</th>\n",
       "      <th>month</th>\n",
       "      <th>year</th>\n",
       "      <th>dayofyear</th>\n",
       "      <th>dayofmonth</th>\n",
       "    </tr>\n",
       "  </thead>\n",
       "  <tbody>\n",
       "    <tr>\n",
       "      <th>289267</th>\n",
       "      <td>2015-12-31 20:00:00</td>\n",
       "      <td>-18.0</td>\n",
       "      <td>20</td>\n",
       "      <td>3</td>\n",
       "      <td>4</td>\n",
       "      <td>12</td>\n",
       "      <td>2015</td>\n",
       "      <td>365</td>\n",
       "      <td>31</td>\n",
       "    </tr>\n",
       "    <tr>\n",
       "      <th>289268</th>\n",
       "      <td>2015-12-31 21:00:00</td>\n",
       "      <td>-14.0</td>\n",
       "      <td>21</td>\n",
       "      <td>3</td>\n",
       "      <td>4</td>\n",
       "      <td>12</td>\n",
       "      <td>2015</td>\n",
       "      <td>365</td>\n",
       "      <td>31</td>\n",
       "    </tr>\n",
       "    <tr>\n",
       "      <th>289269</th>\n",
       "      <td>2015-12-31 22:00:00</td>\n",
       "      <td>-5.0</td>\n",
       "      <td>22</td>\n",
       "      <td>3</td>\n",
       "      <td>4</td>\n",
       "      <td>12</td>\n",
       "      <td>2015</td>\n",
       "      <td>365</td>\n",
       "      <td>31</td>\n",
       "    </tr>\n",
       "    <tr>\n",
       "      <th>289270</th>\n",
       "      <td>2015-12-31 23:00:00</td>\n",
       "      <td>8.0</td>\n",
       "      <td>23</td>\n",
       "      <td>3</td>\n",
       "      <td>4</td>\n",
       "      <td>12</td>\n",
       "      <td>2015</td>\n",
       "      <td>365</td>\n",
       "      <td>31</td>\n",
       "    </tr>\n",
       "    <tr>\n",
       "      <th>289271</th>\n",
       "      <td>2016-01-01 00:00:00</td>\n",
       "      <td>20.0</td>\n",
       "      <td>0</td>\n",
       "      <td>4</td>\n",
       "      <td>1</td>\n",
       "      <td>1</td>\n",
       "      <td>2016</td>\n",
       "      <td>1</td>\n",
       "      <td>1</td>\n",
       "    </tr>\n",
       "  </tbody>\n",
       "</table>\n",
       "</div>"
      ],
      "text/plain": [
       "                  datetime  level  hour  dayofweek  quarter  month  year  \\\n",
       "289267 2015-12-31 20:00:00  -18.0    20          3        4     12  2015   \n",
       "289268 2015-12-31 21:00:00  -14.0    21          3        4     12  2015   \n",
       "289269 2015-12-31 22:00:00   -5.0    22          3        4     12  2015   \n",
       "289270 2015-12-31 23:00:00    8.0    23          3        4     12  2015   \n",
       "289271 2016-01-01 00:00:00   20.0     0          4        1      1  2016   \n",
       "\n",
       "        dayofyear  dayofmonth  \n",
       "289267        365          31  \n",
       "289268        365          31  \n",
       "289269        365          31  \n",
       "289270        365          31  \n",
       "289271          1           1  "
      ]
     },
     "execution_count": 7,
     "metadata": {},
     "output_type": "execute_result"
    }
   ],
   "source": [
    "data.tail()"
   ]
  },
  {
   "cell_type": "code",
   "execution_count": 8,
   "id": "aa74ea8e",
   "metadata": {
    "execution": {
     "iopub.execute_input": "2023-10-19T13:12:29.224024Z",
     "iopub.status.busy": "2023-10-19T13:12:29.223289Z",
     "iopub.status.idle": "2023-10-19T13:12:29.226687Z",
     "shell.execute_reply": "2023-10-19T13:12:29.226112Z"
    },
    "papermill": {
     "duration": 0.010492,
     "end_time": "2023-10-19T13:12:29.228121",
     "exception": false,
     "start_time": "2023-10-19T13:12:29.217629",
     "status": "completed"
    },
    "tags": []
   },
   "outputs": [],
   "source": [
    "# data.drop([\"datetime\"],axis=1,inplace=True, errors=\"ignore\")\n",
    "# data = data.dropna()\n",
    "# data"
   ]
  },
  {
   "cell_type": "code",
   "execution_count": 9,
   "id": "91371847",
   "metadata": {
    "execution": {
     "iopub.execute_input": "2023-10-19T13:12:29.238817Z",
     "iopub.status.busy": "2023-10-19T13:12:29.238511Z",
     "iopub.status.idle": "2023-10-19T13:12:29.250222Z",
     "shell.execute_reply": "2023-10-19T13:12:29.249441Z"
    },
    "papermill": {
     "duration": 0.018927,
     "end_time": "2023-10-19T13:12:29.251900",
     "exception": false,
     "start_time": "2023-10-19T13:12:29.232973",
     "status": "completed"
    },
    "tags": []
   },
   "outputs": [
    {
     "data": {
      "text/plain": [
       "datetime      0\n",
       "level         0\n",
       "hour          0\n",
       "dayofweek     0\n",
       "quarter       0\n",
       "month         0\n",
       "year          0\n",
       "dayofyear     0\n",
       "dayofmonth    0\n",
       "dtype: int64"
      ]
     },
     "execution_count": 9,
     "metadata": {},
     "output_type": "execute_result"
    }
   ],
   "source": [
    "data.isna().sum()"
   ]
  },
  {
   "cell_type": "code",
   "execution_count": 10,
   "id": "99c40adf",
   "metadata": {
    "execution": {
     "iopub.execute_input": "2023-10-19T13:12:29.262501Z",
     "iopub.status.busy": "2023-10-19T13:12:29.262276Z",
     "iopub.status.idle": "2023-10-19T13:12:29.356838Z",
     "shell.execute_reply": "2023-10-19T13:12:29.355872Z"
    },
    "papermill": {
     "duration": 0.101854,
     "end_time": "2023-10-19T13:12:29.358627",
     "exception": false,
     "start_time": "2023-10-19T13:12:29.256773",
     "status": "completed"
    },
    "tags": []
   },
   "outputs": [
    {
     "data": {
      "text/html": [
       "<div>\n",
       "<style scoped>\n",
       "    .dataframe tbody tr th:only-of-type {\n",
       "        vertical-align: middle;\n",
       "    }\n",
       "\n",
       "    .dataframe tbody tr th {\n",
       "        vertical-align: top;\n",
       "    }\n",
       "\n",
       "    .dataframe thead th {\n",
       "        text-align: right;\n",
       "    }\n",
       "</style>\n",
       "<table border=\"1\" class=\"dataframe\">\n",
       "  <thead>\n",
       "    <tr style=\"text-align: right;\">\n",
       "      <th></th>\n",
       "      <th>datetime</th>\n",
       "      <th>level</th>\n",
       "      <th>hour</th>\n",
       "      <th>dayofweek</th>\n",
       "      <th>quarter</th>\n",
       "      <th>month</th>\n",
       "      <th>year</th>\n",
       "      <th>dayofyear</th>\n",
       "      <th>dayofmonth</th>\n",
       "    </tr>\n",
       "  </thead>\n",
       "  <tbody>\n",
       "    <tr>\n",
       "      <th>count</th>\n",
       "      <td>289272</td>\n",
       "      <td>289272.000000</td>\n",
       "      <td>289272.000000</td>\n",
       "      <td>289272.000000</td>\n",
       "      <td>289272.000000</td>\n",
       "      <td>289272.000000</td>\n",
       "      <td>289272.00000</td>\n",
       "      <td>289272.000000</td>\n",
       "      <td>289272.000000</td>\n",
       "    </tr>\n",
       "    <tr>\n",
       "      <th>mean</th>\n",
       "      <td>1999-07-02 12:26:21.365634944</td>\n",
       "      <td>25.883449</td>\n",
       "      <td>11.500000</td>\n",
       "      <td>2.999900</td>\n",
       "      <td>2.508566</td>\n",
       "      <td>6.522947</td>\n",
       "      <td>1998.99945</td>\n",
       "      <td>183.118933</td>\n",
       "      <td>15.729144</td>\n",
       "    </tr>\n",
       "    <tr>\n",
       "      <th>min</th>\n",
       "      <td>1983-01-01 01:00:00</td>\n",
       "      <td>-92.000000</td>\n",
       "      <td>0.000000</td>\n",
       "      <td>0.000000</td>\n",
       "      <td>1.000000</td>\n",
       "      <td>1.000000</td>\n",
       "      <td>1983.00000</td>\n",
       "      <td>1.000000</td>\n",
       "      <td>1.000000</td>\n",
       "    </tr>\n",
       "    <tr>\n",
       "      <th>25%</th>\n",
       "      <td>1991-04-02 06:45:00</td>\n",
       "      <td>6.000000</td>\n",
       "      <td>5.750000</td>\n",
       "      <td>1.000000</td>\n",
       "      <td>2.000000</td>\n",
       "      <td>4.000000</td>\n",
       "      <td>1991.00000</td>\n",
       "      <td>92.000000</td>\n",
       "      <td>8.000000</td>\n",
       "    </tr>\n",
       "    <tr>\n",
       "      <th>50%</th>\n",
       "      <td>1999-07-02 11:30:00</td>\n",
       "      <td>27.000000</td>\n",
       "      <td>11.500000</td>\n",
       "      <td>3.000000</td>\n",
       "      <td>3.000000</td>\n",
       "      <td>7.000000</td>\n",
       "      <td>1999.00000</td>\n",
       "      <td>183.000000</td>\n",
       "      <td>16.000000</td>\n",
       "    </tr>\n",
       "    <tr>\n",
       "      <th>75%</th>\n",
       "      <td>2007-10-01 18:15:00</td>\n",
       "      <td>47.000000</td>\n",
       "      <td>17.250000</td>\n",
       "      <td>5.000000</td>\n",
       "      <td>4.000000</td>\n",
       "      <td>10.000000</td>\n",
       "      <td>2007.00000</td>\n",
       "      <td>274.000000</td>\n",
       "      <td>23.000000</td>\n",
       "    </tr>\n",
       "    <tr>\n",
       "      <th>max</th>\n",
       "      <td>2016-01-01 00:00:00</td>\n",
       "      <td>159.000000</td>\n",
       "      <td>23.000000</td>\n",
       "      <td>6.000000</td>\n",
       "      <td>4.000000</td>\n",
       "      <td>12.000000</td>\n",
       "      <td>2016.00000</td>\n",
       "      <td>366.000000</td>\n",
       "      <td>31.000000</td>\n",
       "    </tr>\n",
       "    <tr>\n",
       "      <th>std</th>\n",
       "      <td>NaN</td>\n",
       "      <td>29.130133</td>\n",
       "      <td>6.922199</td>\n",
       "      <td>2.000075</td>\n",
       "      <td>1.117075</td>\n",
       "      <td>3.448684</td>\n",
       "      <td>9.52173</td>\n",
       "      <td>105.436619</td>\n",
       "      <td>8.799995</td>\n",
       "    </tr>\n",
       "  </tbody>\n",
       "</table>\n",
       "</div>"
      ],
      "text/plain": [
       "                            datetime          level           hour  \\\n",
       "count                         289272  289272.000000  289272.000000   \n",
       "mean   1999-07-02 12:26:21.365634944      25.883449      11.500000   \n",
       "min              1983-01-01 01:00:00     -92.000000       0.000000   \n",
       "25%              1991-04-02 06:45:00       6.000000       5.750000   \n",
       "50%              1999-07-02 11:30:00      27.000000      11.500000   \n",
       "75%              2007-10-01 18:15:00      47.000000      17.250000   \n",
       "max              2016-01-01 00:00:00     159.000000      23.000000   \n",
       "std                              NaN      29.130133       6.922199   \n",
       "\n",
       "           dayofweek        quarter          month          year  \\\n",
       "count  289272.000000  289272.000000  289272.000000  289272.00000   \n",
       "mean        2.999900       2.508566       6.522947    1998.99945   \n",
       "min         0.000000       1.000000       1.000000    1983.00000   \n",
       "25%         1.000000       2.000000       4.000000    1991.00000   \n",
       "50%         3.000000       3.000000       7.000000    1999.00000   \n",
       "75%         5.000000       4.000000      10.000000    2007.00000   \n",
       "max         6.000000       4.000000      12.000000    2016.00000   \n",
       "std         2.000075       1.117075       3.448684       9.52173   \n",
       "\n",
       "           dayofyear     dayofmonth  \n",
       "count  289272.000000  289272.000000  \n",
       "mean      183.118933      15.729144  \n",
       "min         1.000000       1.000000  \n",
       "25%        92.000000       8.000000  \n",
       "50%       183.000000      16.000000  \n",
       "75%       274.000000      23.000000  \n",
       "max       366.000000      31.000000  \n",
       "std       105.436619       8.799995  "
      ]
     },
     "execution_count": 10,
     "metadata": {},
     "output_type": "execute_result"
    }
   ],
   "source": [
    "data.describe()"
   ]
  },
  {
   "cell_type": "code",
   "execution_count": 11,
   "id": "ca6f6c64",
   "metadata": {
    "execution": {
     "iopub.execute_input": "2023-10-19T13:12:29.371316Z",
     "iopub.status.busy": "2023-10-19T13:12:29.371042Z",
     "iopub.status.idle": "2023-10-19T13:12:29.398520Z",
     "shell.execute_reply": "2023-10-19T13:12:29.397693Z"
    },
    "papermill": {
     "duration": 0.035771,
     "end_time": "2023-10-19T13:12:29.400223",
     "exception": false,
     "start_time": "2023-10-19T13:12:29.364452",
     "status": "completed"
    },
    "tags": []
   },
   "outputs": [
    {
     "name": "stdout",
     "output_type": "stream",
     "text": [
      "<class 'pandas.core.frame.DataFrame'>\n",
      "RangeIndex: 289272 entries, 0 to 289271\n",
      "Data columns (total 9 columns):\n",
      " #   Column      Non-Null Count   Dtype         \n",
      "---  ------      --------------   -----         \n",
      " 0   datetime    289272 non-null  datetime64[ns]\n",
      " 1   level       289272 non-null  float64       \n",
      " 2   hour        289272 non-null  int32         \n",
      " 3   dayofweek   289272 non-null  int32         \n",
      " 4   quarter     289272 non-null  int32         \n",
      " 5   month       289272 non-null  int32         \n",
      " 6   year        289272 non-null  int32         \n",
      " 7   dayofyear   289272 non-null  int32         \n",
      " 8   dayofmonth  289272 non-null  int32         \n",
      "dtypes: datetime64[ns](1), float64(1), int32(7)\n",
      "memory usage: 12.1 MB\n"
     ]
    }
   ],
   "source": [
    "data.info()"
   ]
  },
  {
   "cell_type": "code",
   "execution_count": 12,
   "id": "23332e49",
   "metadata": {
    "execution": {
     "iopub.execute_input": "2023-10-19T13:12:29.412485Z",
     "iopub.status.busy": "2023-10-19T13:12:29.412054Z",
     "iopub.status.idle": "2023-10-19T13:12:30.181407Z",
     "shell.execute_reply": "2023-10-19T13:12:30.180117Z"
    },
    "papermill": {
     "duration": 0.778621,
     "end_time": "2023-10-19T13:12:30.184549",
     "exception": false,
     "start_time": "2023-10-19T13:12:29.405928",
     "status": "completed"
    },
    "tags": []
   },
   "outputs": [
    {
     "data": {
      "image/png": "[encoded data removed]",
      "text/plain": [
       "<Figure size 640x480 with 1 Axes>"
      ]
     },
     "metadata": {},
     "output_type": "display_data"
    }
   ],
   "source": [
    "sns.scatterplot(data= data, x='level',y= 'hour')\n",
    "plt.xticks(rotation=90)\n",
    "plt.show()"
   ]
  },
  {
   "cell_type": "code",
   "execution_count": 13,
   "id": "9fe89f63",
   "metadata": {
    "execution": {
     "iopub.execute_input": "2023-10-19T13:12:30.203023Z",
     "iopub.status.busy": "2023-10-19T13:12:30.202731Z",
     "iopub.status.idle": "2023-10-19T13:12:30.214369Z",
     "shell.execute_reply": "2023-10-19T13:12:30.213284Z"
    },
    "papermill": {
     "duration": 0.022509,
     "end_time": "2023-10-19T13:12:30.216934",
     "exception": false,
     "start_time": "2023-10-19T13:12:30.194425",
     "status": "completed"
    },
    "tags": []
   },
   "outputs": [
    {
     "data": {
      "text/html": [
       "<div>\n",
       "<style scoped>\n",
       "    .dataframe tbody tr th:only-of-type {\n",
       "        vertical-align: middle;\n",
       "    }\n",
       "\n",
       "    .dataframe tbody tr th {\n",
       "        vertical-align: top;\n",
       "    }\n",
       "\n",
       "    .dataframe thead th {\n",
       "        text-align: right;\n",
       "    }\n",
       "</style>\n",
       "<table border=\"1\" class=\"dataframe\">\n",
       "  <thead>\n",
       "    <tr style=\"text-align: right;\">\n",
       "      <th></th>\n",
       "      <th>datetime</th>\n",
       "      <th>level</th>\n",
       "      <th>hour</th>\n",
       "      <th>dayofweek</th>\n",
       "      <th>quarter</th>\n",
       "      <th>month</th>\n",
       "      <th>year</th>\n",
       "      <th>dayofyear</th>\n",
       "      <th>dayofmonth</th>\n",
       "    </tr>\n",
       "  </thead>\n",
       "  <tbody>\n",
       "    <tr>\n",
       "      <th>289267</th>\n",
       "      <td>2015-12-31 20:00:00</td>\n",
       "      <td>-18.0</td>\n",
       "      <td>20</td>\n",
       "      <td>3</td>\n",
       "      <td>4</td>\n",
       "      <td>12</td>\n",
       "      <td>2015</td>\n",
       "      <td>365</td>\n",
       "      <td>31</td>\n",
       "    </tr>\n",
       "    <tr>\n",
       "      <th>289268</th>\n",
       "      <td>2015-12-31 21:00:00</td>\n",
       "      <td>-14.0</td>\n",
       "      <td>21</td>\n",
       "      <td>3</td>\n",
       "      <td>4</td>\n",
       "      <td>12</td>\n",
       "      <td>2015</td>\n",
       "      <td>365</td>\n",
       "      <td>31</td>\n",
       "    </tr>\n",
       "    <tr>\n",
       "      <th>289269</th>\n",
       "      <td>2015-12-31 22:00:00</td>\n",
       "      <td>-5.0</td>\n",
       "      <td>22</td>\n",
       "      <td>3</td>\n",
       "      <td>4</td>\n",
       "      <td>12</td>\n",
       "      <td>2015</td>\n",
       "      <td>365</td>\n",
       "      <td>31</td>\n",
       "    </tr>\n",
       "    <tr>\n",
       "      <th>289270</th>\n",
       "      <td>2015-12-31 23:00:00</td>\n",
       "      <td>8.0</td>\n",
       "      <td>23</td>\n",
       "      <td>3</td>\n",
       "      <td>4</td>\n",
       "      <td>12</td>\n",
       "      <td>2015</td>\n",
       "      <td>365</td>\n",
       "      <td>31</td>\n",
       "    </tr>\n",
       "    <tr>\n",
       "      <th>289271</th>\n",
       "      <td>2016-01-01 00:00:00</td>\n",
       "      <td>20.0</td>\n",
       "      <td>0</td>\n",
       "      <td>4</td>\n",
       "      <td>1</td>\n",
       "      <td>1</td>\n",
       "      <td>2016</td>\n",
       "      <td>1</td>\n",
       "      <td>1</td>\n",
       "    </tr>\n",
       "  </tbody>\n",
       "</table>\n",
       "</div>"
      ],
      "text/plain": [
       "                  datetime  level  hour  dayofweek  quarter  month  year  \\\n",
       "289267 2015-12-31 20:00:00  -18.0    20          3        4     12  2015   \n",
       "289268 2015-12-31 21:00:00  -14.0    21          3        4     12  2015   \n",
       "289269 2015-12-31 22:00:00   -5.0    22          3        4     12  2015   \n",
       "289270 2015-12-31 23:00:00    8.0    23          3        4     12  2015   \n",
       "289271 2016-01-01 00:00:00   20.0     0          4        1      1  2016   \n",
       "\n",
       "        dayofyear  dayofmonth  \n",
       "289267        365          31  \n",
       "289268        365          31  \n",
       "289269        365          31  \n",
       "289270        365          31  \n",
       "289271          1           1  "
      ]
     },
     "execution_count": 13,
     "metadata": {},
     "output_type": "execute_result"
    }
   ],
   "source": [
    "data.tail()"
   ]
  },
  {
   "cell_type": "code",
   "execution_count": 14,
   "id": "7f1f7ee1",
   "metadata": {
    "execution": {
     "iopub.execute_input": "2023-10-19T13:12:30.240225Z",
     "iopub.status.busy": "2023-10-19T13:12:30.239448Z",
     "iopub.status.idle": "2023-10-19T13:12:30.247607Z",
     "shell.execute_reply": "2023-10-19T13:12:30.247026Z"
    },
    "papermill": {
     "duration": 0.021176,
     "end_time": "2023-10-19T13:12:30.249614",
     "exception": false,
     "start_time": "2023-10-19T13:12:30.228438",
     "status": "completed"
    },
    "tags": []
   },
   "outputs": [],
   "source": [
    "# convert series to supervised learning\n",
    "def series_to_supervised(data, n_in=1, n_out=1, dropnan=True):\n",
    "        n_vars = 1 if type(data) is list else data.shape[1]\n",
    "        df = pd.DataFrame(data)\n",
    "        cols, names = list(), list()\n",
    "        # input sequence (t-n, ... t-1)\n",
    "        for i in range(n_in, 0, -1):\n",
    "            cols.append(df.shift(i))\n",
    "            names += [('var%d(t-%d)' % (j+1, i)) for j in range(n_vars)]\n",
    "        # forecast sequence (t, t+1, ... t+n)\n",
    "        for i in range(0, n_out):\n",
    "            cols.append(df.shift(-i))\n",
    "            if i == 0:\n",
    "                names += [('var%d(t)' % (j+1)) for j in range(n_vars)]\n",
    "            else:\n",
    "                names += [('var%d(t+%d)' % (j+1, i)) for j in range(n_vars)]\n",
    "        # put it all together\n",
    "        agg = pd.concat(cols, axis=1)\n",
    "        agg.columns = names\n",
    "        # drop rows with NaN values\n",
    "        #if dropnan:\n",
    "            #agg.dropna(inplace=True)\n",
    "        return agg"
   ]
  },
  {
   "cell_type": "code",
   "execution_count": 15,
   "id": "00eaba6d",
   "metadata": {
    "execution": {
     "iopub.execute_input": "2023-10-19T13:12:30.266107Z",
     "iopub.status.busy": "2023-10-19T13:12:30.265850Z",
     "iopub.status.idle": "2023-10-19T13:12:30.319322Z",
     "shell.execute_reply": "2023-10-19T13:12:30.318450Z"
    },
    "papermill": {
     "duration": 0.064111,
     "end_time": "2023-10-19T13:12:30.321251",
     "exception": false,
     "start_time": "2023-10-19T13:12:30.257140",
     "status": "completed"
    },
    "tags": []
   },
   "outputs": [
    {
     "data": {
      "text/plain": [
       "(289272, 16)"
      ]
     },
     "execution_count": 15,
     "metadata": {},
     "output_type": "execute_result"
    }
   ],
   "source": [
    "# Preprocess data\n",
    "labelEncoder = LabelEncoder()\n",
    "oneHotEncoder = OneHotEncoder(sparse=False)\n",
    "ss = StandardScaler()\n",
    "\n",
    "values = data.iloc[:,1:].values\n",
    "# integer encode direction\n",
    "#encoder = LabelEncoder()\n",
    "#values[:,8] = encoder.fit_transform(values[:,8])\n",
    "# ensure all data is float\n",
    "values = values.astype('float32') \n",
    "\n",
    "scaler = MinMaxScaler(feature_range=(0, 1))\n",
    "scaled = scaler.fit_transform(values)\n",
    "\n",
    "# frame as supervised learning\n",
    "reframed = series_to_supervised(scaled, 1, 1)\n",
    "# drop columns we don't want to predict\n",
    "reframed.shape"
   ]
  },
  {
   "cell_type": "code",
   "execution_count": 16,
   "id": "4f5e9f93",
   "metadata": {
    "execution": {
     "iopub.execute_input": "2023-10-19T13:12:30.337034Z",
     "iopub.status.busy": "2023-10-19T13:12:30.336553Z",
     "iopub.status.idle": "2023-10-19T13:12:30.355570Z",
     "shell.execute_reply": "2023-10-19T13:12:30.354775Z"
    },
    "papermill": {
     "duration": 0.028263,
     "end_time": "2023-10-19T13:12:30.357307",
     "exception": false,
     "start_time": "2023-10-19T13:12:30.329044",
     "status": "completed"
    },
    "tags": []
   },
   "outputs": [
    {
     "data": {
      "text/html": [
       "<div>\n",
       "<style scoped>\n",
       "    .dataframe tbody tr th:only-of-type {\n",
       "        vertical-align: middle;\n",
       "    }\n",
       "\n",
       "    .dataframe tbody tr th {\n",
       "        vertical-align: top;\n",
       "    }\n",
       "\n",
       "    .dataframe thead th {\n",
       "        text-align: right;\n",
       "    }\n",
       "</style>\n",
       "<table border=\"1\" class=\"dataframe\">\n",
       "  <thead>\n",
       "    <tr style=\"text-align: right;\">\n",
       "      <th></th>\n",
       "      <th>var1(t-1)</th>\n",
       "      <th>var2(t-1)</th>\n",
       "      <th>var3(t-1)</th>\n",
       "      <th>var4(t-1)</th>\n",
       "      <th>var5(t-1)</th>\n",
       "      <th>var6(t-1)</th>\n",
       "      <th>var7(t-1)</th>\n",
       "      <th>var8(t-1)</th>\n",
       "    </tr>\n",
       "  </thead>\n",
       "  <tbody>\n",
       "    <tr>\n",
       "      <th>0</th>\n",
       "      <td>NaN</td>\n",
       "      <td>NaN</td>\n",
       "      <td>NaN</td>\n",
       "      <td>NaN</td>\n",
       "      <td>NaN</td>\n",
       "      <td>NaN</td>\n",
       "      <td>NaN</td>\n",
       "      <td>NaN</td>\n",
       "    </tr>\n",
       "    <tr>\n",
       "      <th>1</th>\n",
       "      <td>0.541833</td>\n",
       "      <td>0.043478</td>\n",
       "      <td>0.833333</td>\n",
       "      <td>0.0</td>\n",
       "      <td>0.0</td>\n",
       "      <td>0.000000</td>\n",
       "      <td>0.00000</td>\n",
       "      <td>0.0</td>\n",
       "    </tr>\n",
       "    <tr>\n",
       "      <th>2</th>\n",
       "      <td>0.505976</td>\n",
       "      <td>0.086957</td>\n",
       "      <td>0.833333</td>\n",
       "      <td>0.0</td>\n",
       "      <td>0.0</td>\n",
       "      <td>0.000000</td>\n",
       "      <td>0.00000</td>\n",
       "      <td>0.0</td>\n",
       "    </tr>\n",
       "    <tr>\n",
       "      <th>3</th>\n",
       "      <td>0.458167</td>\n",
       "      <td>0.130435</td>\n",
       "      <td>0.833333</td>\n",
       "      <td>0.0</td>\n",
       "      <td>0.0</td>\n",
       "      <td>0.000000</td>\n",
       "      <td>0.00000</td>\n",
       "      <td>0.0</td>\n",
       "    </tr>\n",
       "    <tr>\n",
       "      <th>4</th>\n",
       "      <td>0.406375</td>\n",
       "      <td>0.173913</td>\n",
       "      <td>0.833333</td>\n",
       "      <td>0.0</td>\n",
       "      <td>0.0</td>\n",
       "      <td>0.000000</td>\n",
       "      <td>0.00000</td>\n",
       "      <td>0.0</td>\n",
       "    </tr>\n",
       "    <tr>\n",
       "      <th>...</th>\n",
       "      <td>...</td>\n",
       "      <td>...</td>\n",
       "      <td>...</td>\n",
       "      <td>...</td>\n",
       "      <td>...</td>\n",
       "      <td>...</td>\n",
       "      <td>...</td>\n",
       "      <td>...</td>\n",
       "    </tr>\n",
       "    <tr>\n",
       "      <th>289267</th>\n",
       "      <td>0.290837</td>\n",
       "      <td>0.826087</td>\n",
       "      <td>0.500000</td>\n",
       "      <td>1.0</td>\n",
       "      <td>1.0</td>\n",
       "      <td>0.969696</td>\n",
       "      <td>0.99726</td>\n",
       "      <td>1.0</td>\n",
       "    </tr>\n",
       "    <tr>\n",
       "      <th>289268</th>\n",
       "      <td>0.294821</td>\n",
       "      <td>0.869565</td>\n",
       "      <td>0.500000</td>\n",
       "      <td>1.0</td>\n",
       "      <td>1.0</td>\n",
       "      <td>0.969696</td>\n",
       "      <td>0.99726</td>\n",
       "      <td>1.0</td>\n",
       "    </tr>\n",
       "    <tr>\n",
       "      <th>289269</th>\n",
       "      <td>0.310757</td>\n",
       "      <td>0.913043</td>\n",
       "      <td>0.500000</td>\n",
       "      <td>1.0</td>\n",
       "      <td>1.0</td>\n",
       "      <td>0.969696</td>\n",
       "      <td>0.99726</td>\n",
       "      <td>1.0</td>\n",
       "    </tr>\n",
       "    <tr>\n",
       "      <th>289270</th>\n",
       "      <td>0.346614</td>\n",
       "      <td>0.956522</td>\n",
       "      <td>0.500000</td>\n",
       "      <td>1.0</td>\n",
       "      <td>1.0</td>\n",
       "      <td>0.969696</td>\n",
       "      <td>0.99726</td>\n",
       "      <td>1.0</td>\n",
       "    </tr>\n",
       "    <tr>\n",
       "      <th>289271</th>\n",
       "      <td>0.398406</td>\n",
       "      <td>1.000000</td>\n",
       "      <td>0.500000</td>\n",
       "      <td>1.0</td>\n",
       "      <td>1.0</td>\n",
       "      <td>0.969696</td>\n",
       "      <td>0.99726</td>\n",
       "      <td>1.0</td>\n",
       "    </tr>\n",
       "  </tbody>\n",
       "</table>\n",
       "<p>289272 rows × 8 columns</p>\n",
       "</div>"
      ],
      "text/plain": [
       "        var1(t-1)  var2(t-1)  var3(t-1)  var4(t-1)  var5(t-1)  var6(t-1)  \\\n",
       "0             NaN        NaN        NaN        NaN        NaN        NaN   \n",
       "1        0.541833   0.043478   0.833333        0.0        0.0   0.000000   \n",
       "2        0.505976   0.086957   0.833333        0.0        0.0   0.000000   \n",
       "3        0.458167   0.130435   0.833333        0.0        0.0   0.000000   \n",
       "4        0.406375   0.173913   0.833333        0.0        0.0   0.000000   \n",
       "...           ...        ...        ...        ...        ...        ...   \n",
       "289267   0.290837   0.826087   0.500000        1.0        1.0   0.969696   \n",
       "289268   0.294821   0.869565   0.500000        1.0        1.0   0.969696   \n",
       "289269   0.310757   0.913043   0.500000        1.0        1.0   0.969696   \n",
       "289270   0.346614   0.956522   0.500000        1.0        1.0   0.969696   \n",
       "289271   0.398406   1.000000   0.500000        1.0        1.0   0.969696   \n",
       "\n",
       "        var7(t-1)  var8(t-1)  \n",
       "0             NaN        NaN  \n",
       "1         0.00000        0.0  \n",
       "2         0.00000        0.0  \n",
       "3         0.00000        0.0  \n",
       "4         0.00000        0.0  \n",
       "...           ...        ...  \n",
       "289267    0.99726        1.0  \n",
       "289268    0.99726        1.0  \n",
       "289269    0.99726        1.0  \n",
       "289270    0.99726        1.0  \n",
       "289271    0.99726        1.0  \n",
       "\n",
       "[289272 rows x 8 columns]"
      ]
     },
     "execution_count": 16,
     "metadata": {},
     "output_type": "execute_result"
    }
   ],
   "source": [
    "reframed.drop(reframed.iloc[:,8:],inplace= True,axis=1)\n",
    "reframed"
   ]
  },
  {
   "cell_type": "code",
   "execution_count": 17,
   "id": "e30bdd0f",
   "metadata": {
    "execution": {
     "iopub.execute_input": "2023-10-19T13:12:30.373032Z",
     "iopub.status.busy": "2023-10-19T13:12:30.372820Z",
     "iopub.status.idle": "2023-10-19T13:12:30.382713Z",
     "shell.execute_reply": "2023-10-19T13:12:30.381891Z"
    },
    "papermill": {
     "duration": 0.019973,
     "end_time": "2023-10-19T13:12:30.384499",
     "exception": false,
     "start_time": "2023-10-19T13:12:30.364526",
     "status": "completed"
    },
    "tags": []
   },
   "outputs": [
    {
     "data": {
      "text/html": [
       "<div>\n",
       "<style scoped>\n",
       "    .dataframe tbody tr th:only-of-type {\n",
       "        vertical-align: middle;\n",
       "    }\n",
       "\n",
       "    .dataframe tbody tr th {\n",
       "        vertical-align: top;\n",
       "    }\n",
       "\n",
       "    .dataframe thead th {\n",
       "        text-align: right;\n",
       "    }\n",
       "</style>\n",
       "<table border=\"1\" class=\"dataframe\">\n",
       "  <thead>\n",
       "    <tr style=\"text-align: right;\">\n",
       "      <th></th>\n",
       "      <th>datetime</th>\n",
       "      <th>level</th>\n",
       "      <th>hour</th>\n",
       "      <th>dayofweek</th>\n",
       "      <th>quarter</th>\n",
       "      <th>month</th>\n",
       "      <th>year</th>\n",
       "      <th>dayofyear</th>\n",
       "      <th>dayofmonth</th>\n",
       "    </tr>\n",
       "  </thead>\n",
       "  <tbody>\n",
       "    <tr>\n",
       "      <th>0</th>\n",
       "      <td>1983-01-01 01:00:00</td>\n",
       "      <td>44.0</td>\n",
       "      <td>1</td>\n",
       "      <td>5</td>\n",
       "      <td>1</td>\n",
       "      <td>1</td>\n",
       "      <td>1983</td>\n",
       "      <td>1</td>\n",
       "      <td>1</td>\n",
       "    </tr>\n",
       "    <tr>\n",
       "      <th>1</th>\n",
       "      <td>1983-01-01 02:00:00</td>\n",
       "      <td>35.0</td>\n",
       "      <td>2</td>\n",
       "      <td>5</td>\n",
       "      <td>1</td>\n",
       "      <td>1</td>\n",
       "      <td>1983</td>\n",
       "      <td>1</td>\n",
       "      <td>1</td>\n",
       "    </tr>\n",
       "    <tr>\n",
       "      <th>2</th>\n",
       "      <td>1983-01-01 03:00:00</td>\n",
       "      <td>23.0</td>\n",
       "      <td>3</td>\n",
       "      <td>5</td>\n",
       "      <td>1</td>\n",
       "      <td>1</td>\n",
       "      <td>1983</td>\n",
       "      <td>1</td>\n",
       "      <td>1</td>\n",
       "    </tr>\n",
       "    <tr>\n",
       "      <th>3</th>\n",
       "      <td>1983-01-01 04:00:00</td>\n",
       "      <td>10.0</td>\n",
       "      <td>4</td>\n",
       "      <td>5</td>\n",
       "      <td>1</td>\n",
       "      <td>1</td>\n",
       "      <td>1983</td>\n",
       "      <td>1</td>\n",
       "      <td>1</td>\n",
       "    </tr>\n",
       "    <tr>\n",
       "      <th>4</th>\n",
       "      <td>1983-01-01 05:00:00</td>\n",
       "      <td>1.0</td>\n",
       "      <td>5</td>\n",
       "      <td>5</td>\n",
       "      <td>1</td>\n",
       "      <td>1</td>\n",
       "      <td>1983</td>\n",
       "      <td>1</td>\n",
       "      <td>1</td>\n",
       "    </tr>\n",
       "  </tbody>\n",
       "</table>\n",
       "</div>"
      ],
      "text/plain": [
       "             datetime  level  hour  dayofweek  quarter  month  year  \\\n",
       "0 1983-01-01 01:00:00   44.0     1          5        1      1  1983   \n",
       "1 1983-01-01 02:00:00   35.0     2          5        1      1  1983   \n",
       "2 1983-01-01 03:00:00   23.0     3          5        1      1  1983   \n",
       "3 1983-01-01 04:00:00   10.0     4          5        1      1  1983   \n",
       "4 1983-01-01 05:00:00    1.0     5          5        1      1  1983   \n",
       "\n",
       "   dayofyear  dayofmonth  \n",
       "0          1           1  \n",
       "1          1           1  \n",
       "2          1           1  \n",
       "3          1           1  \n",
       "4          1           1  "
      ]
     },
     "execution_count": 17,
     "metadata": {},
     "output_type": "execute_result"
    }
   ],
   "source": [
    "data.head()"
   ]
  },
  {
   "cell_type": "code",
   "execution_count": 18,
   "id": "4a7b2d40",
   "metadata": {
    "execution": {
     "iopub.execute_input": "2023-10-19T13:12:30.399971Z",
     "iopub.status.busy": "2023-10-19T13:12:30.399743Z",
     "iopub.status.idle": "2023-10-19T13:12:30.510591Z",
     "shell.execute_reply": "2023-10-19T13:12:30.509692Z"
    },
    "papermill": {
     "duration": 0.120692,
     "end_time": "2023-10-19T13:12:30.512437",
     "exception": false,
     "start_time": "2023-10-19T13:12:30.391745",
     "status": "completed"
    },
    "tags": []
   },
   "outputs": [],
   "source": [
    "# split into train and test sets\n",
    "reframed['year'] = data.year.astype('str')\n",
    "split_date = '2014'"
   ]
  },
  {
   "cell_type": "code",
   "execution_count": 19,
   "id": "e3ff8676",
   "metadata": {
    "execution": {
     "iopub.execute_input": "2023-10-19T13:12:30.528956Z",
     "iopub.status.busy": "2023-10-19T13:12:30.528624Z",
     "iopub.status.idle": "2023-10-19T13:12:30.583824Z",
     "shell.execute_reply": "2023-10-19T13:12:30.583002Z"
    },
    "papermill": {
     "duration": 0.065583,
     "end_time": "2023-10-19T13:12:30.585798",
     "exception": false,
     "start_time": "2023-10-19T13:12:30.520215",
     "status": "completed"
    },
    "tags": []
   },
   "outputs": [],
   "source": [
    "train = reframed.loc[reframed['year']<=split_date].drop(['year'],axis=1).dropna().values\n",
    "test = reframed.loc[reframed['year']>split_date].drop(['year'],axis=1).dropna().values\n",
    "\n",
    "# split into input and output\n",
    "X_train, y_train = train[:, 0:-1], train[:, -1]\n",
    "X_test, y_test = test[:, 0:-1], test[:, -1]"
   ]
  },
  {
   "cell_type": "code",
   "execution_count": 20,
   "id": "cd769656",
   "metadata": {
    "execution": {
     "iopub.execute_input": "2023-10-19T13:12:30.602213Z",
     "iopub.status.busy": "2023-10-19T13:12:30.601972Z",
     "iopub.status.idle": "2023-10-19T13:12:30.607131Z",
     "shell.execute_reply": "2023-10-19T13:12:30.606291Z"
    },
    "papermill": {
     "duration": 0.015033,
     "end_time": "2023-10-19T13:12:30.608957",
     "exception": false,
     "start_time": "2023-10-19T13:12:30.593924",
     "status": "completed"
    },
    "tags": []
   },
   "outputs": [
    {
     "data": {
      "text/plain": [
       "(280510, 7)"
      ]
     },
     "execution_count": 20,
     "metadata": {},
     "output_type": "execute_result"
    }
   ],
   "source": [
    "X_train.shape"
   ]
  },
  {
   "cell_type": "code",
   "execution_count": 21,
   "id": "0dc89f8c",
   "metadata": {
    "execution": {
     "iopub.execute_input": "2023-10-19T13:12:30.624383Z",
     "iopub.status.busy": "2023-10-19T13:12:30.624160Z",
     "iopub.status.idle": "2023-10-19T13:12:30.629151Z",
     "shell.execute_reply": "2023-10-19T13:12:30.628242Z"
    },
    "papermill": {
     "duration": 0.014657,
     "end_time": "2023-10-19T13:12:30.630813",
     "exception": false,
     "start_time": "2023-10-19T13:12:30.616156",
     "status": "completed"
    },
    "tags": []
   },
   "outputs": [
    {
     "data": {
      "text/plain": [
       "(280510,)"
      ]
     },
     "execution_count": 21,
     "metadata": {},
     "output_type": "execute_result"
    }
   ],
   "source": [
    "y_train.shape"
   ]
  },
  {
   "cell_type": "code",
   "execution_count": 22,
   "id": "e643e082",
   "metadata": {
    "execution": {
     "iopub.execute_input": "2023-10-19T13:12:30.646240Z",
     "iopub.status.busy": "2023-10-19T13:12:30.646030Z",
     "iopub.status.idle": "2023-10-19T13:12:30.651073Z",
     "shell.execute_reply": "2023-10-19T13:12:30.650246Z"
    },
    "papermill": {
     "duration": 0.014395,
     "end_time": "2023-10-19T13:12:30.652493",
     "exception": false,
     "start_time": "2023-10-19T13:12:30.638098",
     "status": "completed"
    },
    "tags": []
   },
   "outputs": [
    {
     "data": {
      "text/plain": [
       "(8761, 7)"
      ]
     },
     "execution_count": 22,
     "metadata": {},
     "output_type": "execute_result"
    }
   ],
   "source": [
    "X_test.shape"
   ]
  },
  {
   "cell_type": "code",
   "execution_count": 23,
   "id": "e53649c6",
   "metadata": {
    "execution": {
     "iopub.execute_input": "2023-10-19T13:12:30.668060Z",
     "iopub.status.busy": "2023-10-19T13:12:30.667847Z",
     "iopub.status.idle": "2023-10-19T13:12:30.673522Z",
     "shell.execute_reply": "2023-10-19T13:12:30.672810Z"
    },
    "papermill": {
     "duration": 0.015491,
     "end_time": "2023-10-19T13:12:30.675287",
     "exception": false,
     "start_time": "2023-10-19T13:12:30.659796",
     "status": "completed"
    },
    "tags": []
   },
   "outputs": [
    {
     "data": {
      "text/plain": [
       "(8761,)"
      ]
     },
     "execution_count": 23,
     "metadata": {},
     "output_type": "execute_result"
    }
   ],
   "source": [
    "y_test.shape"
   ]
  },
  {
   "cell_type": "code",
   "execution_count": 24,
   "id": "ab17baaa",
   "metadata": {
    "execution": {
     "iopub.execute_input": "2023-10-19T13:12:30.691417Z",
     "iopub.status.busy": "2023-10-19T13:12:30.691197Z",
     "iopub.status.idle": "2023-10-19T13:15:59.304355Z",
     "shell.execute_reply": "2023-10-19T13:15:59.303481Z"
    },
    "papermill": {
     "duration": 208.623586,
     "end_time": "2023-10-19T13:15:59.306361",
     "exception": false,
     "start_time": "2023-10-19T13:12:30.682775",
     "status": "completed"
    },
    "tags": []
   },
   "outputs": [
    {
     "name": "stdout",
     "output_type": "stream",
     "text": [
      "Epoch 1/15\n",
      "4008/4008 - 22s - loss: 0.2615 - val_loss: 0.2492 - 22s/epoch - 6ms/step\n",
      "Epoch 2/15\n",
      "4008/4008 - 13s - loss: 0.2495 - val_loss: 0.2294 - 13s/epoch - 3ms/step\n",
      "Epoch 3/15\n",
      "4008/4008 - 13s - loss: 0.2351 - val_loss: 0.2021 - 13s/epoch - 3ms/step\n",
      "Epoch 4/15\n",
      "4008/4008 - 13s - loss: 0.2108 - val_loss: 0.1951 - 13s/epoch - 3ms/step\n",
      "Epoch 5/15\n",
      "4008/4008 - 13s - loss: 0.1884 - val_loss: 0.1610 - 13s/epoch - 3ms/step\n",
      "Epoch 6/15\n",
      "4008/4008 - 13s - loss: 0.1803 - val_loss: 0.1863 - 13s/epoch - 3ms/step\n",
      "Epoch 7/15\n",
      "4008/4008 - 13s - loss: 0.1716 - val_loss: 0.1734 - 13s/epoch - 3ms/step\n",
      "Epoch 8/15\n",
      "4008/4008 - 13s - loss: 0.1495 - val_loss: 0.1492 - 13s/epoch - 3ms/step\n",
      "Epoch 9/15\n",
      "4008/4008 - 13s - loss: 0.1247 - val_loss: 0.1507 - 13s/epoch - 3ms/step\n",
      "Epoch 10/15\n",
      "4008/4008 - 13s - loss: 0.0983 - val_loss: 0.1222 - 13s/epoch - 3ms/step\n",
      "Epoch 11/15\n",
      "4008/4008 - 13s - loss: 0.0885 - val_loss: 0.1152 - 13s/epoch - 3ms/step\n",
      "Epoch 12/15\n",
      "4008/4008 - 13s - loss: 0.0819 - val_loss: 0.0875 - 13s/epoch - 3ms/step\n",
      "Epoch 13/15\n",
      "4008/4008 - 13s - loss: 0.0713 - val_loss: 0.0971 - 13s/epoch - 3ms/step\n",
      "Epoch 14/15\n",
      "4008/4008 - 13s - loss: 0.0681 - val_loss: 0.1348 - 13s/epoch - 3ms/step\n",
      "Epoch 15/15\n",
      "4008/4008 - 13s - loss: 0.0649 - val_loss: 0.0769 - 13s/epoch - 3ms/step\n"
     ]
    }
   ],
   "source": [
    "\n",
    "# Assuming X_train and X_test have shapes (batch_size, input_features)\n",
    "\n",
    "# Reshape X_train and X_test to include the sequence_length dimension\n",
    "X_train_reshaped = X_train.reshape(X_train.shape[0], X_train.shape[1], 1)  # Assuming sequence_length is 1\n",
    "X_test_reshaped = X_test.reshape(X_test.shape[0], X_test.shape[1], 1)     # Assuming sequence_length is 1\n",
    "\n",
    "# Now, X_train_reshaped and X_test_reshaped have shapes (batch_size, sequence_length, input_features)\n",
    "\n",
    "# Define and compile your model\n",
    "model = Sequential()\n",
    "model.add(LSTM(100, input_shape=(X_train_reshaped.shape[1], X_train_reshaped.shape[2])))\n",
    "model.add(Dropout(0.2))\n",
    "model.add(Dense(1))\n",
    "model.compile(loss='mae', optimizer='adam')\n",
    "\n",
    "# Fit the model with the reshaped data\n",
    "history = model.fit(X_train_reshaped, y_train, epochs=15, batch_size=70, validation_data=(X_test_reshaped, y_test), verbose=2, shuffle=False)\n"
   ]
  },
  {
   "cell_type": "code",
   "execution_count": 25,
   "id": "64bab2cc",
   "metadata": {
    "execution": {
     "iopub.execute_input": "2023-10-19T13:15:59.367102Z",
     "iopub.status.busy": "2023-10-19T13:15:59.366272Z",
     "iopub.status.idle": "2023-10-19T13:15:59.603900Z",
     "shell.execute_reply": "2023-10-19T13:15:59.603089Z"
    },
    "papermill": {
     "duration": 0.289673,
     "end_time": "2023-10-19T13:15:59.605547",
     "exception": false,
     "start_time": "2023-10-19T13:15:59.315874",
     "status": "completed"
    },
    "tags": []
   },
   "outputs": [
    {
     "data": {
      "image/png": "[encoded data removed]",
      "text/plain": [
       "<Figure size 640x480 with 1 Axes>"
      ]
     },
     "metadata": {},
     "output_type": "display_data"
    }
   ],
   "source": [
    "# plot history\n",
    "plt.plot(history.history['loss'], label='train')\n",
    "plt.plot(history.history['val_loss'], label='test')\n",
    "plt.legend()\n",
    "plt.show()"
   ]
  },
  {
   "cell_type": "code",
   "execution_count": 26,
   "id": "644eda9f",
   "metadata": {
    "execution": {
     "iopub.execute_input": "2023-10-19T13:15:59.625174Z",
     "iopub.status.busy": "2023-10-19T13:15:59.624670Z",
     "iopub.status.idle": "2023-10-19T13:15:59.652795Z",
     "shell.execute_reply": "2023-10-19T13:15:59.652138Z"
    },
    "papermill": {
     "duration": 0.039414,
     "end_time": "2023-10-19T13:15:59.654348",
     "exception": false,
     "start_time": "2023-10-19T13:15:59.614934",
     "status": "completed"
    },
    "tags": []
   },
   "outputs": [],
   "source": [
    "model.save(\"my_model.h5\")"
   ]
  },
  {
   "cell_type": "code",
   "execution_count": null,
   "id": "038126bc",
   "metadata": {
    "papermill": {
     "duration": 0.009245,
     "end_time": "2023-10-19T13:15:59.672722",
     "exception": false,
     "start_time": "2023-10-19T13:15:59.663477",
     "status": "completed"
    },
    "tags": []
   },
   "outputs": [],
   "source": []
  }
 ],
 "metadata": {
  "kernelspec": {
   "display_name": "Python 3",
   "language": "python",
   "name": "python3"
  },
  "language_info": {
   "codemirror_mode": {
    "name": "ipython",
    "version": 3
   },
   "file_extension": ".py",
   "mimetype": "text/x-python",
   "name": "python",
   "nbconvert_exporter": "python",
   "pygments_lexer": "ipython3",
   "version": "3.10.12"
  },
  "papermill": {
   "default_parameters": {},
   "duration": 236.387374,
   "end_time": "2023-10-19T13:16:03.185617",
   "environment_variables": {},
   "exception": null,
   "input_path": "__notebook__.ipynb",
   "output_path": "__notebook__.ipynb",
   "parameters": {},
   "start_time": "2023-10-19T13:12:06.798243",
   "version": "2.4.0"
  }
 },
 "nbformat": 4,
 "nbformat_minor": 5
}
