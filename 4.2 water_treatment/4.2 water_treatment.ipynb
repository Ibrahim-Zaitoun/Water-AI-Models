{
 "cells": [
  {
   "cell_type": "code",
   "execution_count": 1,
   "id": "751d75d4",
   "metadata": {},
   "outputs": [],
   "source": [
    "import pandas as pd\n",
    "import numpy as np\n",
    "import matplotlib.pyplot as plt\n",
    "import seaborn as sns\n",
    "import lightgbm as lgb\n",
    "import xgboost as xgb\n",
    "from sklearn.ensemble import GradientBoostingRegressor\n",
    "from sklearn.model_selection import train_test_split\n",
    "from sklearn.preprocessing import LabelEncoder\n",
    "from sklearn.preprocessing import StandardScaler\n",
    "from sklearn.metrics import mean_squared_error\n",
    "from sklearn.linear_model import LinearRegression\n",
    "from sklearn.ensemble import RandomForestRegressor\n",
    "from sklearn.metrics import mean_absolute_error, mean_squared_error, r2_score\n",
    "import warnings\n",
    "warnings.filterwarnings(\"ignore\")"
   ]
  },
  {
   "cell_type": "code",
   "execution_count": 2,
   "id": "d4666171",
   "metadata": {},
   "outputs": [
    {
     "data": {
      "text/html": [
       "<div>\n",
       "<style scoped>\n",
       "    .dataframe tbody tr th:only-of-type {\n",
       "        vertical-align: middle;\n",
       "    }\n",
       "\n",
       "    .dataframe tbody tr th {\n",
       "        vertical-align: top;\n",
       "    }\n",
       "\n",
       "    .dataframe thead th {\n",
       "        text-align: right;\n",
       "    }\n",
       "</style>\n",
       "<table border=\"1\" class=\"dataframe\">\n",
       "  <thead>\n",
       "    <tr style=\"text-align: right;\">\n",
       "      <th></th>\n",
       "      <th>VAR</th>\n",
       "      <th>Variable</th>\n",
       "      <th>COU</th>\n",
       "      <th>Country</th>\n",
       "      <th>YEA</th>\n",
       "      <th>Year</th>\n",
       "      <th>Unit Code</th>\n",
       "      <th>Unit</th>\n",
       "      <th>PowerCode Code</th>\n",
       "      <th>PowerCode</th>\n",
       "      <th>Reference Period Code</th>\n",
       "      <th>Reference Period</th>\n",
       "      <th>Value</th>\n",
       "      <th>Flag Codes</th>\n",
       "      <th>Flags</th>\n",
       "    </tr>\n",
       "  </thead>\n",
       "  <tbody>\n",
       "    <tr>\n",
       "      <th>0</th>\n",
       "      <td>TOTPUBSEW</td>\n",
       "      <td>Total public sewerage (% of resident populatio...</td>\n",
       "      <td>AUS</td>\n",
       "      <td>Australia</td>\n",
       "      <td>2017</td>\n",
       "      <td>2017</td>\n",
       "      <td>PC</td>\n",
       "      <td>Percentage</td>\n",
       "      <td>0</td>\n",
       "      <td>Units</td>\n",
       "      <td>NaN</td>\n",
       "      <td>NaN</td>\n",
       "      <td>92.69</td>\n",
       "      <td>NaN</td>\n",
       "      <td>NaN</td>\n",
       "    </tr>\n",
       "    <tr>\n",
       "      <th>1</th>\n",
       "      <td>TOTPUBSEW</td>\n",
       "      <td>Total public sewerage (% of resident populatio...</td>\n",
       "      <td>AUS</td>\n",
       "      <td>Australia</td>\n",
       "      <td>2018</td>\n",
       "      <td>2018</td>\n",
       "      <td>PC</td>\n",
       "      <td>Percentage</td>\n",
       "      <td>0</td>\n",
       "      <td>Units</td>\n",
       "      <td>NaN</td>\n",
       "      <td>NaN</td>\n",
       "      <td>92.64</td>\n",
       "      <td>NaN</td>\n",
       "      <td>NaN</td>\n",
       "    </tr>\n",
       "    <tr>\n",
       "      <th>2</th>\n",
       "      <td>TOTPUBSEW</td>\n",
       "      <td>Total public sewerage (% of resident populatio...</td>\n",
       "      <td>AUT</td>\n",
       "      <td>Austria</td>\n",
       "      <td>2018</td>\n",
       "      <td>2018</td>\n",
       "      <td>PC</td>\n",
       "      <td>Percentage</td>\n",
       "      <td>0</td>\n",
       "      <td>Units</td>\n",
       "      <td>NaN</td>\n",
       "      <td>NaN</td>\n",
       "      <td>100.00</td>\n",
       "      <td>NaN</td>\n",
       "      <td>NaN</td>\n",
       "    </tr>\n",
       "    <tr>\n",
       "      <th>3</th>\n",
       "      <td>TOTPUBSEW</td>\n",
       "      <td>Total public sewerage (% of resident populatio...</td>\n",
       "      <td>BEL</td>\n",
       "      <td>Belgium</td>\n",
       "      <td>2017</td>\n",
       "      <td>2017</td>\n",
       "      <td>PC</td>\n",
       "      <td>Percentage</td>\n",
       "      <td>0</td>\n",
       "      <td>Units</td>\n",
       "      <td>NaN</td>\n",
       "      <td>NaN</td>\n",
       "      <td>88.00</td>\n",
       "      <td>NaN</td>\n",
       "      <td>NaN</td>\n",
       "    </tr>\n",
       "    <tr>\n",
       "      <th>4</th>\n",
       "      <td>TOTPUBSEW</td>\n",
       "      <td>Total public sewerage (% of resident populatio...</td>\n",
       "      <td>CAN</td>\n",
       "      <td>Canada</td>\n",
       "      <td>2017</td>\n",
       "      <td>2017</td>\n",
       "      <td>PC</td>\n",
       "      <td>Percentage</td>\n",
       "      <td>0</td>\n",
       "      <td>Units</td>\n",
       "      <td>NaN</td>\n",
       "      <td>NaN</td>\n",
       "      <td>85.70</td>\n",
       "      <td>NaN</td>\n",
       "      <td>NaN</td>\n",
       "    </tr>\n",
       "  </tbody>\n",
       "</table>\n",
       "</div>"
      ],
      "text/plain": [
       "         VAR                                           Variable  COU  \\\n",
       "0  TOTPUBSEW  Total public sewerage (% of resident populatio...  AUS   \n",
       "1  TOTPUBSEW  Total public sewerage (% of resident populatio...  AUS   \n",
       "2  TOTPUBSEW  Total public sewerage (% of resident populatio...  AUT   \n",
       "3  TOTPUBSEW  Total public sewerage (% of resident populatio...  BEL   \n",
       "4  TOTPUBSEW  Total public sewerage (% of resident populatio...  CAN   \n",
       "\n",
       "     Country   YEA  Year Unit Code        Unit  PowerCode Code PowerCode  \\\n",
       "0  Australia  2017  2017        PC  Percentage               0     Units   \n",
       "1  Australia  2018  2018        PC  Percentage               0     Units   \n",
       "2    Austria  2018  2018        PC  Percentage               0     Units   \n",
       "3    Belgium  2017  2017        PC  Percentage               0     Units   \n",
       "4     Canada  2017  2017        PC  Percentage               0     Units   \n",
       "\n",
       "   Reference Period Code  Reference Period   Value Flag Codes Flags  \n",
       "0                    NaN               NaN   92.69        NaN   NaN  \n",
       "1                    NaN               NaN   92.64        NaN   NaN  \n",
       "2                    NaN               NaN  100.00        NaN   NaN  \n",
       "3                    NaN               NaN   88.00        NaN   NaN  \n",
       "4                    NaN               NaN   85.70        NaN   NaN  "
      ]
     },
     "execution_count": 2,
     "metadata": {},
     "output_type": "execute_result"
    }
   ],
   "source": [
    "data= pd.read_csv('WATER_TREAT_23102020144712652.csv')\n",
    "data.head()"
   ]
  },
  {
   "cell_type": "code",
   "execution_count": 3,
   "id": "48022eb0",
   "metadata": {},
   "outputs": [
    {
     "name": "stdout",
     "output_type": "stream",
     "text": [
      "<class 'pandas.core.frame.DataFrame'>\n",
      "RangeIndex: 382 entries, 0 to 381\n",
      "Data columns (total 15 columns):\n",
      " #   Column                 Non-Null Count  Dtype  \n",
      "---  ------                 --------------  -----  \n",
      " 0   VAR                    382 non-null    object \n",
      " 1   Variable               382 non-null    object \n",
      " 2   COU                    382 non-null    object \n",
      " 3   Country                382 non-null    object \n",
      " 4   YEA                    382 non-null    int64  \n",
      " 5   Year                   382 non-null    int64  \n",
      " 6   Unit Code              382 non-null    object \n",
      " 7   Unit                   382 non-null    object \n",
      " 8   PowerCode Code         382 non-null    int64  \n",
      " 9   PowerCode              382 non-null    object \n",
      " 10  Reference Period Code  0 non-null      float64\n",
      " 11  Reference Period       0 non-null      float64\n",
      " 12  Value                  382 non-null    float64\n",
      " 13  Flag Codes             42 non-null     object \n",
      " 14  Flags                  42 non-null     object \n",
      "dtypes: float64(3), int64(3), object(9)\n",
      "memory usage: 44.9+ KB\n"
     ]
    }
   ],
   "source": [
    "data.info()"
   ]
  },
  {
   "cell_type": "code",
   "execution_count": 4,
   "id": "6aee4354",
   "metadata": {},
   "outputs": [
    {
     "data": {
      "text/html": [
       "<div>\n",
       "<style scoped>\n",
       "    .dataframe tbody tr th:only-of-type {\n",
       "        vertical-align: middle;\n",
       "    }\n",
       "\n",
       "    .dataframe tbody tr th {\n",
       "        vertical-align: top;\n",
       "    }\n",
       "\n",
       "    .dataframe thead th {\n",
       "        text-align: right;\n",
       "    }\n",
       "</style>\n",
       "<table border=\"1\" class=\"dataframe\">\n",
       "  <thead>\n",
       "    <tr style=\"text-align: right;\">\n",
       "      <th></th>\n",
       "      <th>VAR</th>\n",
       "      <th>Variable</th>\n",
       "      <th>COU</th>\n",
       "      <th>Country</th>\n",
       "      <th>YEA</th>\n",
       "      <th>Year</th>\n",
       "      <th>Unit Code</th>\n",
       "      <th>Unit</th>\n",
       "      <th>PowerCode Code</th>\n",
       "      <th>PowerCode</th>\n",
       "      <th>Value</th>\n",
       "    </tr>\n",
       "  </thead>\n",
       "  <tbody>\n",
       "    <tr>\n",
       "      <th>0</th>\n",
       "      <td>TOTPUBSEW</td>\n",
       "      <td>Total public sewerage (% of resident populatio...</td>\n",
       "      <td>AUS</td>\n",
       "      <td>Australia</td>\n",
       "      <td>2017</td>\n",
       "      <td>2017</td>\n",
       "      <td>PC</td>\n",
       "      <td>Percentage</td>\n",
       "      <td>0</td>\n",
       "      <td>Units</td>\n",
       "      <td>92.69</td>\n",
       "    </tr>\n",
       "    <tr>\n",
       "      <th>1</th>\n",
       "      <td>TOTPUBSEW</td>\n",
       "      <td>Total public sewerage (% of resident populatio...</td>\n",
       "      <td>AUS</td>\n",
       "      <td>Australia</td>\n",
       "      <td>2018</td>\n",
       "      <td>2018</td>\n",
       "      <td>PC</td>\n",
       "      <td>Percentage</td>\n",
       "      <td>0</td>\n",
       "      <td>Units</td>\n",
       "      <td>92.64</td>\n",
       "    </tr>\n",
       "    <tr>\n",
       "      <th>2</th>\n",
       "      <td>TOTPUBSEW</td>\n",
       "      <td>Total public sewerage (% of resident populatio...</td>\n",
       "      <td>AUT</td>\n",
       "      <td>Austria</td>\n",
       "      <td>2018</td>\n",
       "      <td>2018</td>\n",
       "      <td>PC</td>\n",
       "      <td>Percentage</td>\n",
       "      <td>0</td>\n",
       "      <td>Units</td>\n",
       "      <td>100.00</td>\n",
       "    </tr>\n",
       "    <tr>\n",
       "      <th>3</th>\n",
       "      <td>TOTPUBSEW</td>\n",
       "      <td>Total public sewerage (% of resident populatio...</td>\n",
       "      <td>BEL</td>\n",
       "      <td>Belgium</td>\n",
       "      <td>2017</td>\n",
       "      <td>2017</td>\n",
       "      <td>PC</td>\n",
       "      <td>Percentage</td>\n",
       "      <td>0</td>\n",
       "      <td>Units</td>\n",
       "      <td>88.00</td>\n",
       "    </tr>\n",
       "    <tr>\n",
       "      <th>4</th>\n",
       "      <td>TOTPUBSEW</td>\n",
       "      <td>Total public sewerage (% of resident populatio...</td>\n",
       "      <td>CAN</td>\n",
       "      <td>Canada</td>\n",
       "      <td>2017</td>\n",
       "      <td>2017</td>\n",
       "      <td>PC</td>\n",
       "      <td>Percentage</td>\n",
       "      <td>0</td>\n",
       "      <td>Units</td>\n",
       "      <td>85.70</td>\n",
       "    </tr>\n",
       "  </tbody>\n",
       "</table>\n",
       "</div>"
      ],
      "text/plain": [
       "         VAR                                           Variable  COU  \\\n",
       "0  TOTPUBSEW  Total public sewerage (% of resident populatio...  AUS   \n",
       "1  TOTPUBSEW  Total public sewerage (% of resident populatio...  AUS   \n",
       "2  TOTPUBSEW  Total public sewerage (% of resident populatio...  AUT   \n",
       "3  TOTPUBSEW  Total public sewerage (% of resident populatio...  BEL   \n",
       "4  TOTPUBSEW  Total public sewerage (% of resident populatio...  CAN   \n",
       "\n",
       "     Country   YEA  Year Unit Code        Unit  PowerCode Code PowerCode  \\\n",
       "0  Australia  2017  2017        PC  Percentage               0     Units   \n",
       "1  Australia  2018  2018        PC  Percentage               0     Units   \n",
       "2    Austria  2018  2018        PC  Percentage               0     Units   \n",
       "3    Belgium  2017  2017        PC  Percentage               0     Units   \n",
       "4     Canada  2017  2017        PC  Percentage               0     Units   \n",
       "\n",
       "    Value  \n",
       "0   92.69  \n",
       "1   92.64  \n",
       "2  100.00  \n",
       "3   88.00  \n",
       "4   85.70  "
      ]
     },
     "execution_count": 4,
     "metadata": {},
     "output_type": "execute_result"
    }
   ],
   "source": [
    "data = data.drop(['Reference Period Code','Reference Period','Flag Codes','Flags'],axis=1)\n",
    "data.head()"
   ]
  },
  {
   "cell_type": "code",
   "execution_count": 5,
   "id": "71b70f91",
   "metadata": {},
   "outputs": [
    {
     "data": {
      "text/plain": [
       "array([0], dtype=int64)"
      ]
     },
     "execution_count": 5,
     "metadata": {},
     "output_type": "execute_result"
    }
   ],
   "source": [
    "data['PowerCode Code'].unique()"
   ]
  },
  {
   "cell_type": "code",
   "execution_count": 6,
   "id": "88ecc431",
   "metadata": {},
   "outputs": [
    {
     "data": {
      "text/plain": [
       "array(['Units'], dtype=object)"
      ]
     },
     "execution_count": 6,
     "metadata": {},
     "output_type": "execute_result"
    }
   ],
   "source": [
    "data['PowerCode'].unique()"
   ]
  },
  {
   "cell_type": "code",
   "execution_count": 7,
   "id": "cb1445d3",
   "metadata": {},
   "outputs": [
    {
     "data": {
      "text/plain": [
       "array(['Percentage'], dtype=object)"
      ]
     },
     "execution_count": 7,
     "metadata": {},
     "output_type": "execute_result"
    }
   ],
   "source": [
    "data['Unit'].unique()"
   ]
  },
  {
   "cell_type": "code",
   "execution_count": 8,
   "id": "f0bd7297",
   "metadata": {},
   "outputs": [
    {
     "data": {
      "text/plain": [
       "array(['PC'], dtype=object)"
      ]
     },
     "execution_count": 8,
     "metadata": {},
     "output_type": "execute_result"
    }
   ],
   "source": [
    "data['Unit Code'].unique()"
   ]
  },
  {
   "cell_type": "code",
   "execution_count": 9,
   "id": "1907d5fc",
   "metadata": {
    "scrolled": true
   },
   "outputs": [
    {
     "data": {
      "text/plain": [
       "array(['Total public sewerage (% of resident population connected to urban wastewater collecting system = PUBTOTTR + PUBNOTR)',\n",
       "       'Connected to a wastewater treatment plant without treatment',\n",
       "       'Primary treatment', 'Secondary treatment', 'Tertiary treatment',\n",
       "       'Population connected to independent treatment',\n",
       "       'Total treatment ( = PUBTOTTR + INDEPDTR)',\n",
       "       'Public total treatment (connected to a wastewater treatment plant = PUBMECTR + PUBBIOTR + PUBADVTR + OTHERTR)',\n",
       "       'Unspecified (other) treatment ',\n",
       "       'Not connected to public sewerage or independent treatment'],\n",
       "      dtype=object)"
      ]
     },
     "execution_count": 9,
     "metadata": {},
     "output_type": "execute_result"
    }
   ],
   "source": [
    "data['Variable'].unique()"
   ]
  },
  {
   "cell_type": "code",
   "execution_count": 10,
   "id": "e5d80315",
   "metadata": {},
   "outputs": [
    {
     "data": {
      "text/plain": [
       "10"
      ]
     },
     "execution_count": 10,
     "metadata": {},
     "output_type": "execute_result"
    }
   ],
   "source": [
    "data['Variable'].nunique()"
   ]
  },
  {
   "cell_type": "code",
   "execution_count": 11,
   "id": "d6df0e98",
   "metadata": {},
   "outputs": [
    {
     "data": {
      "text/plain": [
       "10"
      ]
     },
     "execution_count": 11,
     "metadata": {},
     "output_type": "execute_result"
    }
   ],
   "source": [
    "data['VAR'].nunique()"
   ]
  },
  {
   "cell_type": "code",
   "execution_count": 12,
   "id": "9b6580c8",
   "metadata": {},
   "outputs": [
    {
     "data": {
      "text/plain": [
       "Index(['VAR', 'Variable', 'COU', 'Country', 'YEA', 'Year', 'Unit Code', 'Unit',\n",
       "       'PowerCode Code', 'PowerCode', 'Value'],\n",
       "      dtype='object')"
      ]
     },
     "execution_count": 12,
     "metadata": {},
     "output_type": "execute_result"
    }
   ],
   "source": [
    "data.columns"
   ]
  },
  {
   "cell_type": "code",
   "execution_count": 13,
   "id": "978f428d",
   "metadata": {},
   "outputs": [
    {
     "name": "stdout",
     "output_type": "stream",
     "text": [
      "VAR\n",
      "Variable\n",
      "COU\n",
      "Country\n",
      "YEA\n",
      "Year\n",
      "Value\n"
     ]
    }
   ],
   "source": [
    "for i in data.columns:\n",
    "    if data[i].nunique() > 1:\n",
    "        print(i)"
   ]
  },
  {
   "cell_type": "code",
   "execution_count": 14,
   "id": "2bc53e83",
   "metadata": {},
   "outputs": [
    {
     "data": {
      "text/plain": [
       "['VAR', 'Variable', 'COU', 'Country', 'YEA', 'Year', 'Value']"
      ]
     },
     "execution_count": 14,
     "metadata": {},
     "output_type": "execute_result"
    }
   ],
   "source": [
    "non_unique_columns = [i for i in data.columns if data[i].nunique() > 1]\n",
    "non_unique_columns"
   ]
  },
  {
   "cell_type": "code",
   "execution_count": 15,
   "id": "7cc930b5",
   "metadata": {},
   "outputs": [
    {
     "data": {
      "text/html": [
       "<div>\n",
       "<style scoped>\n",
       "    .dataframe tbody tr th:only-of-type {\n",
       "        vertical-align: middle;\n",
       "    }\n",
       "\n",
       "    .dataframe tbody tr th {\n",
       "        vertical-align: top;\n",
       "    }\n",
       "\n",
       "    .dataframe thead th {\n",
       "        text-align: right;\n",
       "    }\n",
       "</style>\n",
       "<table border=\"1\" class=\"dataframe\">\n",
       "  <thead>\n",
       "    <tr style=\"text-align: right;\">\n",
       "      <th></th>\n",
       "      <th>VAR</th>\n",
       "      <th>Variable</th>\n",
       "      <th>COU</th>\n",
       "      <th>Country</th>\n",
       "      <th>YEA</th>\n",
       "      <th>Year</th>\n",
       "      <th>Value</th>\n",
       "    </tr>\n",
       "  </thead>\n",
       "  <tbody>\n",
       "    <tr>\n",
       "      <th>0</th>\n",
       "      <td>TOTPUBSEW</td>\n",
       "      <td>Total public sewerage (% of resident populatio...</td>\n",
       "      <td>AUS</td>\n",
       "      <td>Australia</td>\n",
       "      <td>2017</td>\n",
       "      <td>2017</td>\n",
       "      <td>92.69</td>\n",
       "    </tr>\n",
       "    <tr>\n",
       "      <th>1</th>\n",
       "      <td>TOTPUBSEW</td>\n",
       "      <td>Total public sewerage (% of resident populatio...</td>\n",
       "      <td>AUS</td>\n",
       "      <td>Australia</td>\n",
       "      <td>2018</td>\n",
       "      <td>2018</td>\n",
       "      <td>92.64</td>\n",
       "    </tr>\n",
       "    <tr>\n",
       "      <th>2</th>\n",
       "      <td>TOTPUBSEW</td>\n",
       "      <td>Total public sewerage (% of resident populatio...</td>\n",
       "      <td>AUT</td>\n",
       "      <td>Austria</td>\n",
       "      <td>2018</td>\n",
       "      <td>2018</td>\n",
       "      <td>100.00</td>\n",
       "    </tr>\n",
       "    <tr>\n",
       "      <th>3</th>\n",
       "      <td>TOTPUBSEW</td>\n",
       "      <td>Total public sewerage (% of resident populatio...</td>\n",
       "      <td>BEL</td>\n",
       "      <td>Belgium</td>\n",
       "      <td>2017</td>\n",
       "      <td>2017</td>\n",
       "      <td>88.00</td>\n",
       "    </tr>\n",
       "    <tr>\n",
       "      <th>4</th>\n",
       "      <td>TOTPUBSEW</td>\n",
       "      <td>Total public sewerage (% of resident populatio...</td>\n",
       "      <td>CAN</td>\n",
       "      <td>Canada</td>\n",
       "      <td>2017</td>\n",
       "      <td>2017</td>\n",
       "      <td>85.70</td>\n",
       "    </tr>\n",
       "  </tbody>\n",
       "</table>\n",
       "</div>"
      ],
      "text/plain": [
       "         VAR                                           Variable  COU  \\\n",
       "0  TOTPUBSEW  Total public sewerage (% of resident populatio...  AUS   \n",
       "1  TOTPUBSEW  Total public sewerage (% of resident populatio...  AUS   \n",
       "2  TOTPUBSEW  Total public sewerage (% of resident populatio...  AUT   \n",
       "3  TOTPUBSEW  Total public sewerage (% of resident populatio...  BEL   \n",
       "4  TOTPUBSEW  Total public sewerage (% of resident populatio...  CAN   \n",
       "\n",
       "     Country   YEA  Year   Value  \n",
       "0  Australia  2017  2017   92.69  \n",
       "1  Australia  2018  2018   92.64  \n",
       "2    Austria  2018  2018  100.00  \n",
       "3    Belgium  2017  2017   88.00  \n",
       "4     Canada  2017  2017   85.70  "
      ]
     },
     "execution_count": 15,
     "metadata": {},
     "output_type": "execute_result"
    }
   ],
   "source": [
    "data= data[non_unique_columns]\n",
    "data.head()"
   ]
  },
  {
   "cell_type": "code",
   "execution_count": 16,
   "id": "e8cf0da2",
   "metadata": {
    "scrolled": true
   },
   "outputs": [
    {
     "data": {
      "text/html": [
       "<div>\n",
       "<style scoped>\n",
       "    .dataframe tbody tr th:only-of-type {\n",
       "        vertical-align: middle;\n",
       "    }\n",
       "\n",
       "    .dataframe tbody tr th {\n",
       "        vertical-align: top;\n",
       "    }\n",
       "\n",
       "    .dataframe thead th {\n",
       "        text-align: right;\n",
       "    }\n",
       "</style>\n",
       "<table border=\"1\" class=\"dataframe\">\n",
       "  <thead>\n",
       "    <tr style=\"text-align: right;\">\n",
       "      <th></th>\n",
       "      <th>VAR</th>\n",
       "      <th>Country</th>\n",
       "      <th>Year</th>\n",
       "      <th>Value</th>\n",
       "    </tr>\n",
       "  </thead>\n",
       "  <tbody>\n",
       "    <tr>\n",
       "      <th>0</th>\n",
       "      <td>TOTPUBSEW</td>\n",
       "      <td>Australia</td>\n",
       "      <td>2017</td>\n",
       "      <td>92.69</td>\n",
       "    </tr>\n",
       "    <tr>\n",
       "      <th>1</th>\n",
       "      <td>TOTPUBSEW</td>\n",
       "      <td>Australia</td>\n",
       "      <td>2018</td>\n",
       "      <td>92.64</td>\n",
       "    </tr>\n",
       "    <tr>\n",
       "      <th>2</th>\n",
       "      <td>TOTPUBSEW</td>\n",
       "      <td>Austria</td>\n",
       "      <td>2018</td>\n",
       "      <td>100.00</td>\n",
       "    </tr>\n",
       "    <tr>\n",
       "      <th>3</th>\n",
       "      <td>TOTPUBSEW</td>\n",
       "      <td>Belgium</td>\n",
       "      <td>2017</td>\n",
       "      <td>88.00</td>\n",
       "    </tr>\n",
       "    <tr>\n",
       "      <th>4</th>\n",
       "      <td>TOTPUBSEW</td>\n",
       "      <td>Canada</td>\n",
       "      <td>2017</td>\n",
       "      <td>85.70</td>\n",
       "    </tr>\n",
       "    <tr>\n",
       "      <th>...</th>\n",
       "      <td>...</td>\n",
       "      <td>...</td>\n",
       "      <td>...</td>\n",
       "      <td>...</td>\n",
       "    </tr>\n",
       "    <tr>\n",
       "      <th>377</th>\n",
       "      <td>PUBNOTR</td>\n",
       "      <td>Australia</td>\n",
       "      <td>2018</td>\n",
       "      <td>0.00</td>\n",
       "    </tr>\n",
       "    <tr>\n",
       "      <th>378</th>\n",
       "      <td>OTHERTR</td>\n",
       "      <td>Australia</td>\n",
       "      <td>2017</td>\n",
       "      <td>0.00</td>\n",
       "    </tr>\n",
       "    <tr>\n",
       "      <th>379</th>\n",
       "      <td>OTHERTR</td>\n",
       "      <td>Australia</td>\n",
       "      <td>2018</td>\n",
       "      <td>0.00</td>\n",
       "    </tr>\n",
       "    <tr>\n",
       "      <th>380</th>\n",
       "      <td>TOTTR</td>\n",
       "      <td>Australia</td>\n",
       "      <td>2017</td>\n",
       "      <td>100.00</td>\n",
       "    </tr>\n",
       "    <tr>\n",
       "      <th>381</th>\n",
       "      <td>TOTTR</td>\n",
       "      <td>Australia</td>\n",
       "      <td>2018</td>\n",
       "      <td>100.00</td>\n",
       "    </tr>\n",
       "  </tbody>\n",
       "</table>\n",
       "<p>382 rows × 4 columns</p>\n",
       "</div>"
      ],
      "text/plain": [
       "           VAR    Country  Year   Value\n",
       "0    TOTPUBSEW  Australia  2017   92.69\n",
       "1    TOTPUBSEW  Australia  2018   92.64\n",
       "2    TOTPUBSEW    Austria  2018  100.00\n",
       "3    TOTPUBSEW    Belgium  2017   88.00\n",
       "4    TOTPUBSEW     Canada  2017   85.70\n",
       "..         ...        ...   ...     ...\n",
       "377    PUBNOTR  Australia  2018    0.00\n",
       "378    OTHERTR  Australia  2017    0.00\n",
       "379    OTHERTR  Australia  2018    0.00\n",
       "380      TOTTR  Australia  2017  100.00\n",
       "381      TOTTR  Australia  2018  100.00\n",
       "\n",
       "[382 rows x 4 columns]"
      ]
     },
     "execution_count": 16,
     "metadata": {},
     "output_type": "execute_result"
    }
   ],
   "source": [
    "data= data.drop(['COU','YEA','Variable'],axis=1)\n",
    "data"
   ]
  },
  {
   "cell_type": "code",
   "execution_count": 17,
   "id": "2bcd1836",
   "metadata": {},
   "outputs": [
    {
     "data": {
      "text/plain": [
       "array(['Australia', 'Austria', 'Belgium', 'Canada', 'Czech Republic',\n",
       "       'Denmark', 'Finland', 'France', 'Hungary', 'Ireland', 'Japan',\n",
       "       'Korea', 'Luxembourg', 'Netherlands', 'Norway', 'Poland',\n",
       "       'Portugal', 'Slovak Republic', 'Sweden', 'Turkey', 'Chile',\n",
       "       'Estonia', 'Palestine', 'Slovenia', 'Mexico', 'Latvia',\n",
       "       'Lithuania'], dtype=object)"
      ]
     },
     "execution_count": 17,
     "metadata": {},
     "output_type": "execute_result"
    }
   ],
   "source": [
    "data['Country'].replace(\"Israel\",\"Palestine\",inplace= True)\n",
    "data['Country'].unique()"
   ]
  },
  {
   "cell_type": "code",
   "execution_count": 18,
   "id": "d2d05a8b",
   "metadata": {},
   "outputs": [
    {
     "data": {
      "image/png": "[encoded data removed]",
      "text/plain": [
       "<Figure size 432x288 with 1 Axes>"
      ]
     },
     "metadata": {
      "needs_background": "light"
     },
     "output_type": "display_data"
    }
   ],
   "source": [
    "sns.barplot(data= data, x= 'Country', y='Value')\n",
    "plt.xticks(rotation= 90)\n",
    "plt.show()"
   ]
  },
  {
   "cell_type": "code",
   "execution_count": 19,
   "id": "5e7f24f1",
   "metadata": {},
   "outputs": [
    {
     "data": {
      "image/png": "[encoded data removed]",
      "text/plain": [
       "<Figure size 432x288 with 1 Axes>"
      ]
     },
     "metadata": {
      "needs_background": "light"
     },
     "output_type": "display_data"
    }
   ],
   "source": [
    "sns.boxenplot(data= data, x= 'Country', y='Value')\n",
    "plt.xticks(rotation= 90)\n",
    "plt.show()"
   ]
  },
  {
   "cell_type": "code",
   "execution_count": 20,
   "id": "04904d64",
   "metadata": {},
   "outputs": [
    {
     "data": {
      "image/png": "[encoded data removed]",
      "text/plain": [
       "<Figure size 432x288 with 1 Axes>"
      ]
     },
     "metadata": {
      "needs_background": "light"
     },
     "output_type": "display_data"
    }
   ],
   "source": [
    "sns.barplot(data= data, x= 'Year', y='Value')\n",
    "plt.xticks(rotation= 90)\n",
    "plt.show()"
   ]
  },
  {
   "cell_type": "code",
   "execution_count": 21,
   "id": "171f4e83",
   "metadata": {},
   "outputs": [
    {
     "data": {
      "image/png": "[encoded data removed]",
      "text/plain": [
       "<Figure size 432x288 with 1 Axes>"
      ]
     },
     "metadata": {
      "needs_background": "light"
     },
     "output_type": "display_data"
    }
   ],
   "source": [
    "sns.barplot(data= data, x= 'Year', y='Value',estimator='max')\n",
    "plt.xticks(rotation= 90)\n",
    "plt.show()"
   ]
  },
  {
   "cell_type": "code",
   "execution_count": 22,
   "id": "c41ed314",
   "metadata": {
    "scrolled": true
   },
   "outputs": [
    {
     "data": {
      "image/png": "[encoded data removed]",
      "text/plain": [
       "<Figure size 432x288 with 1 Axes>"
      ]
     },
     "metadata": {
      "needs_background": "light"
     },
     "output_type": "display_data"
    }
   ],
   "source": [
    "sns.barplot(data= data, x= 'Year', y='Value',estimator='min')\n",
    "plt.xticks(rotation= 90)\n",
    "plt.show()"
   ]
  },
  {
   "cell_type": "code",
   "execution_count": 23,
   "id": "62ee5f3e",
   "metadata": {},
   "outputs": [
    {
     "data": {
      "image/png": "[encoded data removed]",
      "text/plain": [
       "<Figure size 432x288 with 1 Axes>"
      ]
     },
     "metadata": {
      "needs_background": "light"
     },
     "output_type": "display_data"
    }
   ],
   "source": [
    "sns.stripplot(data= data, x= 'Country',hue='Year', y='Value')\n",
    "plt.xticks(rotation= 90)\n",
    "plt.show()"
   ]
  },
  {
   "cell_type": "code",
   "execution_count": 24,
   "id": "d2b0a7a8",
   "metadata": {
    "scrolled": true
   },
   "outputs": [
    {
     "data": {
      "text/plain": [
       "count    382.000000\n",
       "mean      36.792743\n",
       "std       38.341812\n",
       "min       -0.000103\n",
       "25%        0.200000\n",
       "50%       18.480000\n",
       "75%       78.795000\n",
       "max      100.000000\n",
       "Name: Value, dtype: float64"
      ]
     },
     "execution_count": 24,
     "metadata": {},
     "output_type": "execute_result"
    }
   ],
   "source": [
    "data['Value'].describe()"
   ]
  },
  {
   "cell_type": "code",
   "execution_count": 25,
   "id": "84bb0e76",
   "metadata": {
    "scrolled": true
   },
   "outputs": [
    {
     "data": {
      "text/html": [
       "<div>\n",
       "<style scoped>\n",
       "    .dataframe tbody tr th:only-of-type {\n",
       "        vertical-align: middle;\n",
       "    }\n",
       "\n",
       "    .dataframe tbody tr th {\n",
       "        vertical-align: top;\n",
       "    }\n",
       "\n",
       "    .dataframe thead th {\n",
       "        text-align: right;\n",
       "    }\n",
       "</style>\n",
       "<table border=\"1\" class=\"dataframe\">\n",
       "  <thead>\n",
       "    <tr style=\"text-align: right;\">\n",
       "      <th></th>\n",
       "      <th>VAR</th>\n",
       "      <th>Country</th>\n",
       "      <th>Year</th>\n",
       "      <th>Value</th>\n",
       "    </tr>\n",
       "  </thead>\n",
       "  <tbody>\n",
       "    <tr>\n",
       "      <th>0</th>\n",
       "      <td>8</td>\n",
       "      <td>0</td>\n",
       "      <td>2017</td>\n",
       "      <td>92.69</td>\n",
       "    </tr>\n",
       "    <tr>\n",
       "      <th>1</th>\n",
       "      <td>8</td>\n",
       "      <td>0</td>\n",
       "      <td>2018</td>\n",
       "      <td>92.64</td>\n",
       "    </tr>\n",
       "    <tr>\n",
       "      <th>2</th>\n",
       "      <td>8</td>\n",
       "      <td>1</td>\n",
       "      <td>2018</td>\n",
       "      <td>100.00</td>\n",
       "    </tr>\n",
       "    <tr>\n",
       "      <th>3</th>\n",
       "      <td>8</td>\n",
       "      <td>2</td>\n",
       "      <td>2017</td>\n",
       "      <td>88.00</td>\n",
       "    </tr>\n",
       "    <tr>\n",
       "      <th>4</th>\n",
       "      <td>8</td>\n",
       "      <td>3</td>\n",
       "      <td>2017</td>\n",
       "      <td>85.70</td>\n",
       "    </tr>\n",
       "  </tbody>\n",
       "</table>\n",
       "</div>"
      ],
      "text/plain": [
       "   VAR  Country  Year   Value\n",
       "0    8        0  2017   92.69\n",
       "1    8        0  2018   92.64\n",
       "2    8        1  2018  100.00\n",
       "3    8        2  2017   88.00\n",
       "4    8        3  2017   85.70"
      ]
     },
     "execution_count": 25,
     "metadata": {},
     "output_type": "execute_result"
    }
   ],
   "source": [
    "columns_to_encode = ['VAR', 'Country']\n",
    "\n",
    "label_encoder = LabelEncoder()\n",
    "\n",
    "for column in data[columns_to_encode]:\n",
    "    data[column] = label_encoder.fit_transform(data[column])\n",
    "data.head()    "
   ]
  },
  {
   "cell_type": "code",
   "execution_count": 26,
   "id": "9d156886",
   "metadata": {
    "scrolled": false
   },
   "outputs": [
    {
     "data": {
      "text/html": [
       "<div>\n",
       "<style scoped>\n",
       "    .dataframe tbody tr th:only-of-type {\n",
       "        vertical-align: middle;\n",
       "    }\n",
       "\n",
       "    .dataframe tbody tr th {\n",
       "        vertical-align: top;\n",
       "    }\n",
       "\n",
       "    .dataframe thead th {\n",
       "        text-align: right;\n",
       "    }\n",
       "</style>\n",
       "<table border=\"1\" class=\"dataframe\">\n",
       "  <thead>\n",
       "    <tr style=\"text-align: right;\">\n",
       "      <th></th>\n",
       "      <th>VAR</th>\n",
       "      <th>Country</th>\n",
       "      <th>Year</th>\n",
       "      <th>Value</th>\n",
       "    </tr>\n",
       "  </thead>\n",
       "  <tbody>\n",
       "    <tr>\n",
       "      <th>153</th>\n",
       "      <td>3</td>\n",
       "      <td>19</td>\n",
       "      <td>2018</td>\n",
       "      <td>54.500000</td>\n",
       "    </tr>\n",
       "    <tr>\n",
       "      <th>308</th>\n",
       "      <td>2</td>\n",
       "      <td>26</td>\n",
       "      <td>2018</td>\n",
       "      <td>0.000000</td>\n",
       "    </tr>\n",
       "    <tr>\n",
       "      <th>110</th>\n",
       "      <td>4</td>\n",
       "      <td>10</td>\n",
       "      <td>2018</td>\n",
       "      <td>7.075000</td>\n",
       "    </tr>\n",
       "    <tr>\n",
       "      <th>95</th>\n",
       "      <td>5</td>\n",
       "      <td>20</td>\n",
       "      <td>2017</td>\n",
       "      <td>4.800000</td>\n",
       "    </tr>\n",
       "    <tr>\n",
       "      <th>306</th>\n",
       "      <td>1</td>\n",
       "      <td>25</td>\n",
       "      <td>2017</td>\n",
       "      <td>13.000000</td>\n",
       "    </tr>\n",
       "    <tr>\n",
       "      <th>309</th>\n",
       "      <td>1</td>\n",
       "      <td>26</td>\n",
       "      <td>2017</td>\n",
       "      <td>25.760000</td>\n",
       "    </tr>\n",
       "    <tr>\n",
       "      <th>278</th>\n",
       "      <td>2</td>\n",
       "      <td>10</td>\n",
       "      <td>2018</td>\n",
       "      <td>0.000000</td>\n",
       "    </tr>\n",
       "    <tr>\n",
       "      <th>348</th>\n",
       "      <td>8</td>\n",
       "      <td>15</td>\n",
       "      <td>2018</td>\n",
       "      <td>78.780000</td>\n",
       "    </tr>\n",
       "    <tr>\n",
       "      <th>352</th>\n",
       "      <td>4</td>\n",
       "      <td>15</td>\n",
       "      <td>2017</td>\n",
       "      <td>6.670000</td>\n",
       "    </tr>\n",
       "    <tr>\n",
       "      <th>280</th>\n",
       "      <td>1</td>\n",
       "      <td>10</td>\n",
       "      <td>2018</td>\n",
       "      <td>19.566002</td>\n",
       "    </tr>\n",
       "  </tbody>\n",
       "</table>\n",
       "</div>"
      ],
      "text/plain": [
       "     VAR  Country  Year      Value\n",
       "153    3       19  2018  54.500000\n",
       "308    2       26  2018   0.000000\n",
       "110    4       10  2018   7.075000\n",
       "95     5       20  2017   4.800000\n",
       "306    1       25  2017  13.000000\n",
       "309    1       26  2017  25.760000\n",
       "278    2       10  2018   0.000000\n",
       "348    8       15  2018  78.780000\n",
       "352    4       15  2017   6.670000\n",
       "280    1       10  2018  19.566002"
      ]
     },
     "execution_count": 26,
     "metadata": {},
     "output_type": "execute_result"
    }
   ],
   "source": [
    "data.sample(10)"
   ]
  },
  {
   "cell_type": "code",
   "execution_count": 27,
   "id": "f8e2ec63",
   "metadata": {},
   "outputs": [
    {
     "data": {
      "text/html": [
       "<div>\n",
       "<style scoped>\n",
       "    .dataframe tbody tr th:only-of-type {\n",
       "        vertical-align: middle;\n",
       "    }\n",
       "\n",
       "    .dataframe tbody tr th {\n",
       "        vertical-align: top;\n",
       "    }\n",
       "\n",
       "    .dataframe thead th {\n",
       "        text-align: right;\n",
       "    }\n",
       "</style>\n",
       "<table border=\"1\" class=\"dataframe\">\n",
       "  <thead>\n",
       "    <tr style=\"text-align: right;\">\n",
       "      <th></th>\n",
       "      <th>VAR</th>\n",
       "      <th>Country</th>\n",
       "      <th>Year</th>\n",
       "      <th>Value</th>\n",
       "    </tr>\n",
       "  </thead>\n",
       "  <tbody>\n",
       "    <tr>\n",
       "      <th>86</th>\n",
       "      <td>5</td>\n",
       "      <td>19</td>\n",
       "      <td>2018</td>\n",
       "      <td>24.200000</td>\n",
       "    </tr>\n",
       "    <tr>\n",
       "      <th>782</th>\n",
       "      <td>7</td>\n",
       "      <td>22</td>\n",
       "      <td>2017</td>\n",
       "      <td>91.836860</td>\n",
       "    </tr>\n",
       "    <tr>\n",
       "      <th>948</th>\n",
       "      <td>3</td>\n",
       "      <td>23</td>\n",
       "      <td>2017</td>\n",
       "      <td>1.880402</td>\n",
       "    </tr>\n",
       "    <tr>\n",
       "      <th>862</th>\n",
       "      <td>3</td>\n",
       "      <td>7</td>\n",
       "      <td>2017</td>\n",
       "      <td>79.542370</td>\n",
       "    </tr>\n",
       "    <tr>\n",
       "      <th>1352</th>\n",
       "      <td>6</td>\n",
       "      <td>2</td>\n",
       "      <td>2017</td>\n",
       "      <td>4.907994</td>\n",
       "    </tr>\n",
       "    <tr>\n",
       "      <th>583</th>\n",
       "      <td>5</td>\n",
       "      <td>20</td>\n",
       "      <td>2017</td>\n",
       "      <td>4.708812</td>\n",
       "    </tr>\n",
       "    <tr>\n",
       "      <th>1166</th>\n",
       "      <td>0</td>\n",
       "      <td>23</td>\n",
       "      <td>2017</td>\n",
       "      <td>32.292336</td>\n",
       "    </tr>\n",
       "    <tr>\n",
       "      <th>410</th>\n",
       "      <td>9</td>\n",
       "      <td>0</td>\n",
       "      <td>2017</td>\n",
       "      <td>99.904486</td>\n",
       "    </tr>\n",
       "    <tr>\n",
       "      <th>313</th>\n",
       "      <td>1</td>\n",
       "      <td>7</td>\n",
       "      <td>2017</td>\n",
       "      <td>17.099998</td>\n",
       "    </tr>\n",
       "    <tr>\n",
       "      <th>404</th>\n",
       "      <td>8</td>\n",
       "      <td>20</td>\n",
       "      <td>2018</td>\n",
       "      <td>98.936700</td>\n",
       "    </tr>\n",
       "  </tbody>\n",
       "</table>\n",
       "</div>"
      ],
      "text/plain": [
       "      VAR  Country  Year      Value\n",
       "86      5       19  2018  24.200000\n",
       "782     7       22  2017  91.836860\n",
       "948     3       23  2017   1.880402\n",
       "862     3        7  2017  79.542370\n",
       "1352    6        2  2017   4.907994\n",
       "583     5       20  2017   4.708812\n",
       "1166    0       23  2017  32.292336\n",
       "410     9        0  2017  99.904486\n",
       "313     1        7  2017  17.099998\n",
       "404     8       20  2018  98.936700"
      ]
     },
     "execution_count": 27,
     "metadata": {},
     "output_type": "execute_result"
    }
   ],
   "source": [
    "# Assuming you have a Pandas DataFrame called 'data' with your original dataset\n",
    "# Let's assume 'data' has columns: 'var', 'Country', 'Variable', 'year', and 'Value'\n",
    "\n",
    "# Define a function to perform data augmentation\n",
    "def augment_data(original_data, num_samples_to_generate):\n",
    "    augmented_data = original_data.copy()\n",
    "    \n",
    "    # Define the range for random noise or other augmentations\n",
    "    noise_range = 0.1  # You can adjust this as needed\n",
    "    \n",
    "    for _ in range(num_samples_to_generate):\n",
    "        # Randomly select a row from the original data\n",
    "        original_sample = original_data.sample()\n",
    "        \n",
    "        # Create a new augmented sample by adding random noise to 'Value' (you can customize this)\n",
    "        augmented_sample = original_sample.copy()\n",
    "        augmented_sample['Value'] += np.random.uniform(-noise_range, noise_range)\n",
    "        \n",
    "        # Append the augmented sample to the augmented data\n",
    "        augmented_data = augmented_data.append(augmented_sample, ignore_index=True)\n",
    "    \n",
    "    return augmented_data\n",
    "\n",
    "# Perform data augmentation to generate more samples\n",
    "num_samples_to_generate = 1000  # Adjust as needed\n",
    "augmented_data = augment_data(data, num_samples_to_generate)\n",
    "\n",
    "# Now, 'augmented_data' contains your original data with additional augmented samples\n",
    "# You can use 'augmented_data' for training your machine learning model\n",
    "\n",
    "augmented_data.sample(10)"
   ]
  },
  {
   "cell_type": "code",
   "execution_count": 28,
   "id": "703e8c37",
   "metadata": {},
   "outputs": [
    {
     "data": {
      "text/plain": [
       "((1382, 3), (1382, 1))"
      ]
     },
     "execution_count": 28,
     "metadata": {},
     "output_type": "execute_result"
    }
   ],
   "source": [
    "x = augmented_data.drop(columns=['Value'])\n",
    "y = pd.DataFrame(augmented_data['Value'])\n",
    "x.shape, y.shape"
   ]
  },
  {
   "cell_type": "code",
   "execution_count": 29,
   "id": "ae45980a",
   "metadata": {},
   "outputs": [
    {
     "data": {
      "text/plain": [
       "((1105, 3), (277, 3), (1105, 1), (277, 1))"
      ]
     },
     "execution_count": 29,
     "metadata": {},
     "output_type": "execute_result"
    }
   ],
   "source": [
    "# Split the data into training and testing sets\n",
    "X_train, X_test, y_train, y_test = train_test_split(x, y, test_size=0.2, random_state=42)\n",
    "\n",
    "X_train.shape, X_test.shape, y_train.shape, y_test.shape"
   ]
  },
  {
   "cell_type": "code",
   "execution_count": 30,
   "id": "b0cf0d22",
   "metadata": {},
   "outputs": [
    {
     "data": {
      "text/plain": [
       "24.14654057470141"
      ]
     },
     "execution_count": 30,
     "metadata": {},
     "output_type": "execute_result"
    }
   ],
   "source": [
    "# Create and train a Linear Regression model\n",
    "lr_model = LinearRegression()\n",
    "lr_model.fit(X_train, y_train)\n",
    "\n",
    "# Make predictions on the test set\n",
    "lr_predictions = lr_model.predict(X_test)\n",
    "\n",
    "# Evaluate the model\n",
    "lr_mae = mean_absolute_error(y_test, lr_predictions)\n",
    "lr_mae"
   ]
  },
  {
   "cell_type": "code",
   "execution_count": 31,
   "id": "5c18b35d",
   "metadata": {},
   "outputs": [
    {
     "data": {
      "text/plain": [
       "820.9972348563712"
      ]
     },
     "execution_count": 31,
     "metadata": {},
     "output_type": "execute_result"
    }
   ],
   "source": [
    "lr_mse = mean_squared_error(y_test, lr_predictions)\n",
    "lr_mse"
   ]
  },
  {
   "cell_type": "code",
   "execution_count": 32,
   "id": "bdd20d56",
   "metadata": {},
   "outputs": [
    {
     "data": {
      "text/plain": [
       "0.4076225580059144"
      ]
     },
     "execution_count": 32,
     "metadata": {},
     "output_type": "execute_result"
    }
   ],
   "source": [
    "lr_r2 = r2_score(y_test, lr_predictions)\n",
    "lr_r2"
   ]
  },
  {
   "cell_type": "code",
   "execution_count": 33,
   "id": "9ae39398",
   "metadata": {},
   "outputs": [
    {
     "name": "stdout",
     "output_type": "stream",
     "text": [
      "Random Forest Regression:\n",
      "MAE: 0.7791794550123263\n",
      "MSE: 7.343830227140992\n",
      "R-squared: 0.9947011765939093\n"
     ]
    }
   ],
   "source": [
    "# Create and train a Random Forest Regression model\n",
    "rf_model = RandomForestRegressor(n_estimators=100, random_state=42)\n",
    "rf_model.fit(X_train, y_train.squeeze())\n",
    "\n",
    "# Make predictions on the test set\n",
    "rf_predictions = rf_model.predict(X_test)\n",
    "\n",
    "# Evaluate the model\n",
    "rf_mae = mean_absolute_error(y_test, rf_predictions)\n",
    "rf_mse = mean_squared_error(y_test, rf_predictions)\n",
    "rf_r2 = r2_score(y_test, rf_predictions)\n",
    "\n",
    "print(\"Random Forest Regression:\")\n",
    "print(f\"MAE: {rf_mae}\")\n",
    "print(f\"MSE: {rf_mse}\")\n",
    "print(f\"R-squared: {rf_r2}\")"
   ]
  },
  {
   "cell_type": "code",
   "execution_count": 34,
   "id": "73954281",
   "metadata": {},
   "outputs": [
    {
     "name": "stdout",
     "output_type": "stream",
     "text": [
      "Random Forest Regression:\n",
      "MAE: 0.7791784128938333\n",
      "MSE: 7.3501063876981965\n",
      "R-squared: 0.994696648130501\n"
     ]
    }
   ],
   "source": [
    "# Create and train a Random Forest Regression model\n",
    "rf_model = RandomForestRegressor(n_estimators=20, random_state=42)\n",
    "rf_model.fit(X_train, y_train.squeeze())\n",
    "\n",
    "# Make predictions on the test set\n",
    "rf_predictions = rf_model.predict(X_test)\n",
    "\n",
    "# Evaluate the model\n",
    "rf_mae = mean_absolute_error(y_test, rf_predictions)\n",
    "rf_mse = mean_squared_error(y_test, rf_predictions)\n",
    "rf_r2 = r2_score(y_test, rf_predictions)\n",
    "\n",
    "print(\"Random Forest Regression:\")\n",
    "print(f\"MAE: {rf_mae}\")\n",
    "print(f\"MSE: {rf_mse}\")\n",
    "print(f\"R-squared: {rf_r2}\")"
   ]
  },
  {
   "cell_type": "code",
   "execution_count": 35,
   "id": "4fa81c15",
   "metadata": {},
   "outputs": [
    {
     "name": "stdout",
     "output_type": "stream",
     "text": [
      "Gradient Boosting Regressor :\n",
      "MAE: 6.08373669428646\n",
      "MSE: 91.557142885365\n",
      "R-squared: 0.9339384058848775\n"
     ]
    }
   ],
   "source": [
    "# Create and train a Gradient Boosting Regressor model\n",
    "gbr_model = GradientBoostingRegressor(n_estimators=100, learning_rate=0.1, random_state=42)\n",
    "gbr_model.fit(X_train, y_train.squeeze())\n",
    "\n",
    "# Make predictions on the test set\n",
    "gbr_predictions = gbr_model.predict(X_test)\n",
    "\n",
    "# Evaluate the model\n",
    "gbr_mae = mean_absolute_error(y_test, gbr_predictions)\n",
    "gbr_mse = mean_squared_error(y_test, gbr_predictions)\n",
    "gbr_r2 = r2_score(y_test, gbr_predictions)\n",
    "\n",
    "print(\"Gradient Boosting Regressor :\")\n",
    "print(f\"MAE: {gbr_mae}\")\n",
    "print(f\"MSE: {gbr_mse}\")\n",
    "print(f\"R-squared: {gbr_r2}\")"
   ]
  },
  {
   "cell_type": "code",
   "execution_count": 36,
   "id": "4fa688d6",
   "metadata": {},
   "outputs": [
    {
     "name": "stdout",
     "output_type": "stream",
     "text": [
      "XGBoost:\n",
      "MAE: 1.6875740980562137\n",
      "MSE: 9.997782311853634\n",
      "R-squared: 0.9927862598556185\n"
     ]
    }
   ],
   "source": [
    "# Create and train an XGBoost model\n",
    "xgb_model = xgb.XGBRegressor(n_estimators=100, learning_rate=0.1, random_state=42)\n",
    "xgb_model.fit(X_train, y_train.squeeze())\n",
    "\n",
    "# Make predictions on the test set\n",
    "xgb_predictions = xgb_model.predict(X_test)\n",
    "\n",
    "# Evaluate the model\n",
    "xgb_mae = mean_absolute_error(y_test, xgb_predictions)\n",
    "xgb_mse = mean_squared_error(y_test, xgb_predictions)\n",
    "xgb_r2 = r2_score(y_test, xgb_predictions)\n",
    "\n",
    "print(\"XGBoost:\")\n",
    "print(f\"MAE: {xgb_mae}\")\n",
    "print(f\"MSE: {xgb_mse}\")\n",
    "print(f\"R-squared: {xgb_r2}\")"
   ]
  },
  {
   "cell_type": "code",
   "execution_count": 37,
   "id": "74a38dcd",
   "metadata": {},
   "outputs": [
    {
     "name": "stdout",
     "output_type": "stream",
     "text": [
      "[LightGBM] [Warning] Auto-choosing row-wise multi-threading, the overhead of testing was 0.000055 seconds.\n",
      "You can set `force_row_wise=true` to remove the overhead.\n",
      "And if memory is not enough, you can set `force_col_wise=true`.\n",
      "[LightGBM] [Info] Total Bins 40\n",
      "[LightGBM] [Info] Number of data points in the train set: 1105, number of used features: 3\n",
      "[LightGBM] [Info] Start training from score 35.516283\n",
      "lightgbm :\n",
      "MAE: 4.257100214775733\n",
      "MSE: 44.15945919850614\n",
      "R-squared: 0.9681374475220619\n"
     ]
    }
   ],
   "source": [
    "# Create and train a LightGBM model\n",
    "lgb_params = {\n",
    "    'n_estimators': 100,\n",
    "    'learning_rate': 0.1,\n",
    "    'random_state': 42\n",
    "}\n",
    "\n",
    "lgb_model = lgb.LGBMRegressor(**lgb_params)\n",
    "lgb_model.fit(X_train, y_train)\n",
    "\n",
    "# Make predictions on the test set\n",
    "lgb_predictions = lgb_model.predict(X_test)\n",
    "\n",
    "# Evaluate the model\n",
    "lgb_mae = mean_absolute_error(y_test, lgb_predictions)\n",
    "lgb_mse = mean_squared_error(y_test, lgb_predictions)\n",
    "lgb_r2 = r2_score(y_test, lgb_predictions)\n",
    "\n",
    "print(\"lightgbm :\")\n",
    "print(f\"MAE: {lgb_mae}\")\n",
    "print(f\"MSE: {lgb_mse}\")\n",
    "print(f\"R-squared: {lgb_r2}\")"
   ]
  },
  {
   "cell_type": "code",
   "execution_count": 38,
   "id": "bfaca8f9",
   "metadata": {},
   "outputs": [
    {
     "name": "stdout",
     "output_type": "stream",
     "text": [
      "Random Forest Regression:\n",
      "MAE: 0.7791794550123263\n",
      "MSE: 7.343830227140992\n",
      "R-squared: 0.9947011765939093\n"
     ]
    }
   ],
   "source": [
    "# Create and train a Random Forest Regression model\n",
    "rf_model = RandomForestRegressor(n_estimators=100, random_state=42)\n",
    "rf_model.fit(X_train, y_train.squeeze())\n",
    "\n",
    "# Make predictions on the test set\n",
    "rf_predictions = rf_model.predict(X_test)\n",
    "\n",
    "# Evaluate the model\n",
    "rf_mae = mean_absolute_error(y_test, rf_predictions)\n",
    "rf_mse = mean_squared_error(y_test, rf_predictions)\n",
    "rf_r2 = r2_score(y_test, rf_predictions)\n",
    "\n",
    "print(\"Random Forest Regression:\")\n",
    "print(f\"MAE: {rf_mae}\")\n",
    "print(f\"MSE: {rf_mse}\")\n",
    "print(f\"R-squared: {rf_r2}\")"
   ]
  },
  {
   "cell_type": "code",
   "execution_count": 41,
   "id": "e3756537",
   "metadata": {},
   "outputs": [
    {
     "name": "stdout",
     "output_type": "stream",
     "text": [
      "Random Forest model saved to random_forest_model.h5\n"
     ]
    }
   ],
   "source": [
    "import h5py\n",
    "\n",
    "# Assuming you have already trained your Random Forest model and stored it in 'rf_model'\n",
    "\n",
    "# Define the file path where you want to save the model\n",
    "model_file_path = 'random_forest_model.h5'\n",
    "\n",
    "# Create an HDF5 file\n",
    "with h5py.File(model_file_path, 'w') as file:\n",
    "    # Save each estimator separately with a unique name\n",
    "    for idx, estimator in enumerate(rf_model.estimators_):\n",
    "        estimator_group_name = f'estimator_{idx}'\n",
    "        estimator_group = file.create_group(estimator_group_name)\n",
    "        \n",
    "        # Save the attributes of the estimator\n",
    "        for k, v in estimator.__dict__.items():\n",
    "            try:\n",
    "                estimator_group.create_dataset(k, data=v)\n",
    "            except TypeError:\n",
    "                pass\n",
    "\n",
    "print(f\"Random Forest model saved to {model_file_path}\")\n"
   ]
  },
  {
   "cell_type": "code",
   "execution_count": null,
   "id": "eab2f8cc",
   "metadata": {},
   "outputs": [],
   "source": []
  }
 ],
 "metadata": {
  "kernelspec": {
   "display_name": "Python 3 (ipykernel)",
   "language": "python",
   "name": "python3"
  },
  "language_info": {
   "codemirror_mode": {
    "name": "ipython",
    "version": 3
   },
   "file_extension": ".py",
   "mimetype": "text/x-python",
   "name": "python",
   "nbconvert_exporter": "python",
   "pygments_lexer": "ipython3",
   "version": "3.9.12"
  }
 },
 "nbformat": 4,
 "nbformat_minor": 5
}
